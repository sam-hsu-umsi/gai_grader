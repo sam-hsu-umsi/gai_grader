{
 "cells": [
  {
   "cell_type": "markdown",
   "metadata": {},
   "source": [
    "# Part 1: Prepping Submissions & Custom Criteria Descriptions\n",
    "\n",
    "You should only need to run the code blocks in Part 1 once for an assignment."
   ]
  },
  {
   "cell_type": "code",
   "execution_count": 1,
   "metadata": {},
   "outputs": [
    {
     "name": "stdout",
     "output_type": "stream",
     "text": [
      "Requirement already satisfied: openai in ./.venv/lib/python3.10/site-packages (0.27.7)\n",
      "Requirement already satisfied: requests>=2.20 in ./.venv/lib/python3.10/site-packages (from openai) (2.32.3)\n",
      "Requirement already satisfied: tqdm in ./.venv/lib/python3.10/site-packages (from openai) (4.67.1)\n",
      "Requirement already satisfied: aiohttp in ./.venv/lib/python3.10/site-packages (from openai) (3.11.11)\n",
      "Requirement already satisfied: charset-normalizer<4,>=2 in ./.venv/lib/python3.10/site-packages (from requests>=2.20->openai) (3.4.1)\n",
      "Requirement already satisfied: idna<4,>=2.5 in ./.venv/lib/python3.10/site-packages (from requests>=2.20->openai) (3.10)\n",
      "Requirement already satisfied: urllib3<3,>=1.21.1 in ./.venv/lib/python3.10/site-packages (from requests>=2.20->openai) (2.3.0)\n",
      "Requirement already satisfied: certifi>=2017.4.17 in ./.venv/lib/python3.10/site-packages (from requests>=2.20->openai) (2024.12.14)\n",
      "Requirement already satisfied: aiohappyeyeballs>=2.3.0 in ./.venv/lib/python3.10/site-packages (from aiohttp->openai) (2.4.4)\n",
      "Requirement already satisfied: aiosignal>=1.1.2 in ./.venv/lib/python3.10/site-packages (from aiohttp->openai) (1.3.2)\n",
      "Requirement already satisfied: async-timeout<6.0,>=4.0 in ./.venv/lib/python3.10/site-packages (from aiohttp->openai) (5.0.1)\n",
      "Requirement already satisfied: attrs>=17.3.0 in ./.venv/lib/python3.10/site-packages (from aiohttp->openai) (25.1.0)\n",
      "Requirement already satisfied: frozenlist>=1.1.1 in ./.venv/lib/python3.10/site-packages (from aiohttp->openai) (1.5.0)\n",
      "Requirement already satisfied: multidict<7.0,>=4.5 in ./.venv/lib/python3.10/site-packages (from aiohttp->openai) (6.1.0)\n",
      "Requirement already satisfied: propcache>=0.2.0 in ./.venv/lib/python3.10/site-packages (from aiohttp->openai) (0.2.1)\n",
      "Requirement already satisfied: yarl<2.0,>=1.17.0 in ./.venv/lib/python3.10/site-packages (from aiohttp->openai) (1.18.3)\n",
      "Requirement already satisfied: typing-extensions>=4.1.0 in ./.venv/lib/python3.10/site-packages (from multidict<7.0,>=4.5->aiohttp->openai) (4.12.2)\n"
     ]
    }
   ],
   "source": [
    "!pip3 install openai"
   ]
  },
  {
   "cell_type": "code",
   "execution_count": 2,
   "metadata": {},
   "outputs": [
    {
     "name": "stdout",
     "output_type": "stream",
     "text": [
      "Requirement already satisfied: pdf2docx in ./.venv/lib/python3.10/site-packages (0.5.6)\n",
      "Requirement already satisfied: PyMuPDF>=1.19.0 in ./.venv/lib/python3.10/site-packages (from pdf2docx) (1.25.2)\n",
      "Requirement already satisfied: python-docx>=0.8.10 in ./.venv/lib/python3.10/site-packages (from pdf2docx) (1.1.2)\n",
      "Requirement already satisfied: fonttools>=4.24.0 in ./.venv/lib/python3.10/site-packages (from pdf2docx) (4.55.8)\n",
      "Requirement already satisfied: numpy>=1.17.2 in ./.venv/lib/python3.10/site-packages (from pdf2docx) (1.23.5)\n",
      "Requirement already satisfied: opencv-python>=4.5 in ./.venv/lib/python3.10/site-packages (from pdf2docx) (4.11.0.86)\n",
      "Requirement already satisfied: fire>=0.3.0 in ./.venv/lib/python3.10/site-packages (from pdf2docx) (0.7.0)\n",
      "Requirement already satisfied: termcolor in ./.venv/lib/python3.10/site-packages (from fire>=0.3.0->pdf2docx) (2.5.0)\n",
      "Requirement already satisfied: lxml>=3.1.0 in ./.venv/lib/python3.10/site-packages (from python-docx>=0.8.10->pdf2docx) (5.3.0)\n",
      "Requirement already satisfied: typing-extensions>=4.9.0 in ./.venv/lib/python3.10/site-packages (from python-docx>=0.8.10->pdf2docx) (4.12.2)\n"
     ]
    }
   ],
   "source": [
    "!pip3 install pdf2docx"
   ]
  },
  {
   "cell_type": "markdown",
   "metadata": {},
   "source": [
    "## Build custom file for manual criterion descriptions\n",
    "\n",
    "After you populate the `custom_description` column, save the file manually again with the 'UTF-8' encoding.\n",
    "For me on Windows, if I don't explicitly state that, it won't load properly."
   ]
  },
  {
   "cell_type": "code",
   "execution_count": 16,
   "metadata": {},
   "outputs": [
    {
     "name": "stdout",
     "output_type": "stream",
     "text": [
      "Saving criterion CSV to data/584988_criterion.csv\n"
     ]
    }
   ],
   "source": [
    "from simpleHelper import *\n",
    "\n",
    "pathToAssgnCSV = os.path.join('data','MOVESCI_110_WN_2023_584988_MWrite_assignments_cleaned_description_col.csv')\n",
    "pathToGradingsCSV = os.path.join('data','MOVESCI_110_WN_2023_584988_MWrite_gradings.csv')\n",
    "pathToRubricsCSV = os.path.join('data','MOVESCI_110_WN_2023_584988_MWrite_rubrics.csv')\n",
    "\n",
    "pathToCriterionCSV = os.path.join('data','584988_criterion.csv')\n",
    "\n",
    "\n",
    "makeBlankCriterionFile(pathToAssgnCSV, pathToGradingsCSV, pathToRubricsCSV, pathToCriterionCSV)"
   ]
  },
  {
   "cell_type": "markdown",
   "metadata": {},
   "source": [
    "## Generate text versions of submission files\n",
    "\n",
    "You will need to run this notebook cell to convert the submissions into a format usable by the notebook.\n",
    "\n",
    "The `data/submissions_xxxxxx` should contain the unzipped submission folders that are exported from Canvas. The folder name can be anything, you just need to specify it in the `originalSubmissionFolder` variable. You will also need the Assignment ID in variable `assignmentID`.\n",
    "\n",
    "A folder for converted submissions is automatically made called `data/Converted submissions_xxxxxx` where xxxxxx is the Assignment ID."
   ]
  },
  {
   "cell_type": "code",
   "execution_count": 15,
   "metadata": {},
   "outputs": [
    {
     "name": "stderr",
     "output_type": "stream",
     "text": [
      "[INFO] Start to convert data/submissions_1916694/wallscamrynnana_646504_29301286_Walls, Camrynn- CS 1.4b Memo  (1).pdf\n",
      "[INFO] \u001b[1;36m[1/4] Opening document...\u001b[0m\n",
      "[INFO] \u001b[1;36m[2/4] Analyzing document...\u001b[0m\n"
     ]
    },
    {
     "name": "stdout",
     "output_type": "stream",
     "text": [
      "data/submissions_1916694/wallscamrynnana_646504_29301286_Walls, Camrynn- CS 1.4b Memo  (1).pdf\n"
     ]
    },
    {
     "name": "stderr",
     "output_type": "stream",
     "text": [
      "[INFO] \u001b[1;36m[3/4] Parsing pages...\u001b[0m\n",
      "[INFO] (1/2) Page 1\n",
      "[INFO] (2/2) Page 2\n",
      "[INFO] \u001b[1;36m[4/4] Creating pages...\u001b[0m\n",
      "[INFO] (1/2) Page 1\n",
      "[ERROR] Ignore page 1 due to making page error: invalid literal for int() with base 16: 'x1'\n",
      "[INFO] (2/2) Page 2\n",
      "[ERROR] Ignore page 2 due to making page error: invalid literal for int() with base 16: 'x1'\n",
      "[INFO] Terminated in 0.69s.\n"
     ]
    },
    {
     "name": "stdout",
     "output_type": "stream",
     "text": [
      "File seems to have no text content in it. Skipping file.\n",
      "data/submissions_1916694/gustafsontarynrose_715968_29275419_MOVESCI 110 MWrite 1.docx\n",
      "data/submissions_1916694/gensheimeremiliann_718852_29295598_MoveSci MWrite #1.docx\n"
     ]
    },
    {
     "name": "stderr",
     "output_type": "stream",
     "text": [
      "[INFO] Start to convert data/submissions_1916694/fryeoliviadorotea_720717_29298807_MWrite Memo- Olivia Frye (1).pdf\n",
      "[INFO] \u001b[1;36m[1/4] Opening document...\u001b[0m\n",
      "[INFO] \u001b[1;36m[2/4] Analyzing document...\u001b[0m\n"
     ]
    },
    {
     "name": "stdout",
     "output_type": "stream",
     "text": [
      "data/submissions_1916694/marshallsofiamarie_LATE_718233_29320946_M-Write 1.docx\n",
      "data/submissions_1916694/heimbuchmairin_LATE_717953_29301494_MWrite first draft.docx\n",
      "data/submissions_1916694/fryeoliviadorotea_720717_29298807_MWrite Memo- Olivia Frye (1).pdf\n"
     ]
    },
    {
     "name": "stderr",
     "output_type": "stream",
     "text": [
      "[INFO] \u001b[1;36m[3/4] Parsing pages...\u001b[0m\n",
      "[INFO] (1/2) Page 1\n",
      "[INFO] (2/2) Page 2\n",
      "[INFO] \u001b[1;36m[4/4] Creating pages...\u001b[0m\n",
      "[INFO] (1/2) Page 1\n",
      "[ERROR] Ignore page 1 due to making page error: invalid literal for int() with base 16: 'x1'\n",
      "[INFO] (2/2) Page 2\n",
      "[ERROR] Ignore page 2 due to making page error: invalid literal for int() with base 16: 'x1'\n",
      "[INFO] Terminated in 0.18s.\n",
      "[INFO] Start to convert data/submissions_1916694/sukpraphrutecatherine_629457_29298554_110 mwrite draft.pdf\n",
      "[INFO] \u001b[1;36m[1/4] Opening document...\u001b[0m\n",
      "[INFO] \u001b[1;36m[2/4] Analyzing document...\u001b[0m\n",
      "[INFO] \u001b[1;36m[3/4] Parsing pages...\u001b[0m\n",
      "[INFO] (1/3) Page 1\n",
      "[INFO] (2/3) Page 2\n",
      "[INFO] (3/3) Page 3\n",
      "[INFO] \u001b[1;36m[4/4] Creating pages...\u001b[0m\n",
      "[INFO] (1/3) Page 1\n",
      "[ERROR] Ignore page 1 due to making page error: invalid literal for int() with base 16: 'x1'\n",
      "[INFO] (2/3) Page 2\n",
      "[ERROR] Ignore page 2 due to making page error: invalid literal for int() with base 16: 'x1'\n",
      "[INFO] (3/3) Page 3\n",
      "[INFO] Terminated in 0.14s.\n"
     ]
    },
    {
     "name": "stdout",
     "output_type": "stream",
     "text": [
      "File seems to have no text content in it. Skipping file.\n",
      "data/submissions_1916694/sukpraphrutecatherine_629457_29298554_110 mwrite draft.pdf\n"
     ]
    },
    {
     "name": "stderr",
     "output_type": "stream",
     "text": [
      "[INFO] Start to convert data/submissions_1916694/shahnupurajaykumar_732927_29290098_MWrite%20Assignment%20.pdf.pdf\n",
      "[INFO] \u001b[1;36m[1/4] Opening document...\u001b[0m\n",
      "[INFO] \u001b[1;36m[2/4] Analyzing document...\u001b[0m\n",
      "[INFO] \u001b[1;36m[3/4] Parsing pages...\u001b[0m\n",
      "[INFO] (1/2) Page 1\n",
      "[INFO] (2/2) Page 2\n",
      "[INFO] \u001b[1;36m[4/4] Creating pages...\u001b[0m\n",
      "[INFO] (1/2) Page 1\n",
      "[ERROR] Ignore page 1 due to making page error: invalid literal for int() with base 16: 'x1'\n",
      "[INFO] (2/2) Page 2\n",
      "[ERROR] Ignore page 2 due to making page error: invalid literal for int() with base 16: 'x1'\n",
      "[INFO] Terminated in 0.14s.\n"
     ]
    },
    {
     "name": "stdout",
     "output_type": "stream",
     "text": [
      "File seems to have no text content in it. Skipping file.\n",
      "data/submissions_1916694/shahnupurajaykumar_732927_29290098_MWrite%20Assignment%20.pdf.pdf\n"
     ]
    },
    {
     "name": "stderr",
     "output_type": "stream",
     "text": [
      "[INFO] Start to convert data/submissions_1916694/heithoffellaanne_717155_29299182_M-Write Prompt 1.pdf\n",
      "[INFO] \u001b[1;36m[1/4] Opening document...\u001b[0m\n",
      "[INFO] \u001b[1;36m[2/4] Analyzing document...\u001b[0m\n",
      "[INFO] \u001b[1;36m[3/4] Parsing pages...\u001b[0m\n",
      "[INFO] (1/2) Page 1\n",
      "[INFO] (2/2) Page 2\n",
      "[INFO] \u001b[1;36m[4/4] Creating pages...\u001b[0m\n",
      "[INFO] (1/2) Page 1\n",
      "[ERROR] Ignore page 1 due to making page error: invalid literal for int() with base 16: 'x1'\n",
      "[INFO] (2/2) Page 2\n",
      "[ERROR] Ignore page 2 due to making page error: invalid literal for int() with base 16: 'x1'\n",
      "[INFO] Terminated in 0.15s.\n"
     ]
    },
    {
     "name": "stdout",
     "output_type": "stream",
     "text": [
      "File seems to have no text content in it. Skipping file.\n",
      "data/submissions_1916694/heithoffellaanne_717155_29299182_M-Write Prompt 1.pdf\n"
     ]
    },
    {
     "name": "stderr",
     "output_type": "stream",
     "text": [
      "[INFO] Start to convert data/submissions_1916694/caiamandayushan_721206_29301492_mvs mwrite 1.pdf\n",
      "[INFO] \u001b[1;36m[1/4] Opening document...\u001b[0m\n",
      "[INFO] \u001b[1;36m[2/4] Analyzing document...\u001b[0m\n",
      "[INFO] \u001b[1;36m[3/4] Parsing pages...\u001b[0m\n",
      "[INFO] (1/2) Page 1\n",
      "[INFO] (2/2) Page 2\n",
      "[INFO] \u001b[1;36m[4/4] Creating pages...\u001b[0m\n",
      "[INFO] (1/2) Page 1\n",
      "[ERROR] Ignore page 1 due to making page error: invalid literal for int() with base 16: 'x1'\n",
      "[INFO] (2/2) Page 2\n",
      "[ERROR] Ignore page 2 due to making page error: invalid literal for int() with base 16: 'x1'\n",
      "[INFO] Terminated in 0.13s.\n"
     ]
    },
    {
     "name": "stdout",
     "output_type": "stream",
     "text": [
      "File seems to have no text content in it. Skipping file.\n",
      "data/submissions_1916694/caiamandayushan_721206_29301492_mvs mwrite 1.pdf\n"
     ]
    },
    {
     "name": "stderr",
     "output_type": "stream",
     "text": [
      "[INFO] Start to convert data/submissions_1916694/garbuschewskiemmaelizabeth_LATE_651281_29303386_MWrite assignment #1.pdf\n",
      "[INFO] \u001b[1;36m[1/4] Opening document...\u001b[0m\n",
      "[INFO] \u001b[1;36m[2/4] Analyzing document...\u001b[0m\n"
     ]
    },
    {
     "name": "stdout",
     "output_type": "stream",
     "text": [
      "File seems to have no text content in it. Skipping file.\n",
      "data/submissions_1916694/williamsscotlandamaya_629455_29299491_movesci 110 mwrite 1.docx\n",
      "data/submissions_1916694/garbuschewskiemmaelizabeth_LATE_651281_29303386_MWrite assignment #1.pdf\n"
     ]
    },
    {
     "name": "stderr",
     "output_type": "stream",
     "text": [
      "[INFO] \u001b[1;36m[3/4] Parsing pages...\u001b[0m\n",
      "[INFO] (1/3) Page 1\n",
      "[INFO] (2/3) Page 2\n",
      "[INFO] (3/3) Page 3\n",
      "[INFO] \u001b[1;36m[4/4] Creating pages...\u001b[0m\n",
      "[INFO] (1/3) Page 1\n",
      "[ERROR] Ignore page 1 due to making page error: invalid literal for int() with base 16: 'x1'\n",
      "[INFO] (2/3) Page 2\n",
      "[ERROR] Ignore page 2 due to making page error: invalid literal for int() with base 16: 'x1'\n",
      "[INFO] (3/3) Page 3\n",
      "[ERROR] Ignore page 3 due to making page error: invalid literal for int() with base 16: 'x1'\n",
      "[INFO] Terminated in 0.23s.\n",
      "[INFO] Start to convert data/submissions_1916694/nowakemilyruth_715390_29298971_CS 1.4b MWrite.pdf\n",
      "[INFO] \u001b[1;36m[1/4] Opening document...\u001b[0m\n",
      "[INFO] \u001b[1;36m[2/4] Analyzing document...\u001b[0m\n",
      "[INFO] \u001b[1;36m[3/4] Parsing pages...\u001b[0m\n",
      "[INFO] (1/2) Page 1\n",
      "[INFO] (2/2) Page 2\n",
      "[INFO] \u001b[1;36m[4/4] Creating pages...\u001b[0m\n",
      "[INFO] (1/2) Page 1\n",
      "[ERROR] Ignore page 1 due to making page error: invalid literal for int() with base 16: 'x1'\n",
      "[INFO] (2/2) Page 2\n",
      "[ERROR] Ignore page 2 due to making page error: invalid literal for int() with base 16: 'x1'\n",
      "[INFO] Terminated in 0.13s.\n"
     ]
    },
    {
     "name": "stdout",
     "output_type": "stream",
     "text": [
      "File seems to have no text content in it. Skipping file.\n",
      "data/submissions_1916694/nowakemilyruth_715390_29298971_CS 1.4b MWrite.pdf\n"
     ]
    },
    {
     "name": "stderr",
     "output_type": "stream",
     "text": [
      "[INFO] Start to convert data/submissions_1916694/mroziakweronikam_726286_29300486_CS 1.4b Memo.pdf\n",
      "[INFO] \u001b[1;36m[1/4] Opening document...\u001b[0m\n",
      "[INFO] \u001b[1;36m[2/4] Analyzing document...\u001b[0m\n",
      "[INFO] \u001b[1;36m[3/4] Parsing pages...\u001b[0m\n",
      "[INFO] (1/2) Page 1\n"
     ]
    },
    {
     "name": "stdout",
     "output_type": "stream",
     "text": [
      "File seems to have no text content in it. Skipping file.\n",
      "data/submissions_1916694/leskooliviakatherine_717821_29286271_MWrite Assignment #1.docx\n",
      "data/submissions_1916694/mroziakweronikam_726286_29300486_CS 1.4b Memo.pdf\n"
     ]
    },
    {
     "name": "stderr",
     "output_type": "stream",
     "text": [
      "[INFO] (2/2) Page 2\n",
      "[INFO] \u001b[1;36m[4/4] Creating pages...\u001b[0m\n",
      "[INFO] (1/2) Page 1\n",
      "[ERROR] Ignore page 1 due to making page error: invalid literal for int() with base 16: 'x1'\n",
      "[INFO] (2/2) Page 2\n",
      "[ERROR] Ignore page 2 due to making page error: invalid literal for int() with base 16: 'x1'\n",
      "[INFO] Terminated in 0.17s.\n",
      "[INFO] Start to convert data/submissions_1916694/parrishgreg_647928_29301468_MOVESCI M-Write #1 First Draft.pdf\n",
      "[INFO] \u001b[1;36m[1/4] Opening document...\u001b[0m\n",
      "[INFO] \u001b[1;36m[2/4] Analyzing document...\u001b[0m\n",
      "[INFO] \u001b[1;36m[3/4] Parsing pages...\u001b[0m\n",
      "[INFO] (1/2) Page 1\n",
      "[INFO] (2/2) Page 2\n"
     ]
    },
    {
     "name": "stdout",
     "output_type": "stream",
     "text": [
      "File seems to have no text content in it. Skipping file.\n",
      "data/submissions_1916694/sinsuzie_725460_29299382_M write 1.docx\n",
      "data/submissions_1916694/parrishgreg_647928_29301468_MOVESCI M-Write #1 First Draft.pdf\n"
     ]
    },
    {
     "name": "stderr",
     "output_type": "stream",
     "text": [
      "[INFO] \u001b[1;36m[4/4] Creating pages...\u001b[0m\n",
      "[INFO] (1/2) Page 1\n",
      "[ERROR] Ignore page 1 due to making page error: invalid literal for int() with base 16: 'x1'\n",
      "[INFO] (2/2) Page 2\n",
      "[ERROR] Ignore page 2 due to making page error: invalid literal for int() with base 16: 'x1'\n",
      "[INFO] Terminated in 0.15s.\n",
      "[INFO] Start to convert data/submissions_1916694/alzehairyrawaahaider_727732_29301112_Kinesiology Research Team Proposal.pdf\n",
      "[INFO] \u001b[1;36m[1/4] Opening document...\u001b[0m\n",
      "[INFO] \u001b[1;36m[2/4] Analyzing document...\u001b[0m\n",
      "[INFO] \u001b[1;36m[3/4] Parsing pages...\u001b[0m\n",
      "[INFO] (1/2) Page 1\n",
      "[INFO] (2/2) Page 2\n",
      "[INFO] \u001b[1;36m[4/4] Creating pages...\u001b[0m\n",
      "[INFO] (1/2) Page 1\n",
      "[ERROR] Ignore page 1 due to making page error: invalid literal for int() with base 16: 'x1'\n",
      "[INFO] (2/2) Page 2\n",
      "[ERROR] Ignore page 2 due to making page error: invalid literal for int() with base 16: 'x1'\n",
      "[INFO] Terminated in 0.16s.\n"
     ]
    },
    {
     "name": "stdout",
     "output_type": "stream",
     "text": [
      "File seems to have no text content in it. Skipping file.\n",
      "data/submissions_1916694/alzehairyrawaahaider_727732_29301112_Kinesiology Research Team Proposal.pdf\n"
     ]
    },
    {
     "name": "stderr",
     "output_type": "stream",
     "text": [
      "[INFO] Start to convert data/submissions_1916694/bafianatalia_719608_29298008_Natalia Bafia- M-Write #1-4.pdf\n",
      "[INFO] \u001b[1;36m[1/4] Opening document...\u001b[0m\n",
      "[INFO] \u001b[1;36m[2/4] Analyzing document...\u001b[0m\n",
      "[INFO] \u001b[1;36m[3/4] Parsing pages...\u001b[0m\n",
      "[INFO] (1/2) Page 1\n",
      "[INFO] (2/2) Page 2\n",
      "[INFO] \u001b[1;36m[4/4] Creating pages...\u001b[0m\n"
     ]
    },
    {
     "name": "stdout",
     "output_type": "stream",
     "text": [
      "File seems to have no text content in it. Skipping file.\n",
      "data/submissions_1916694/bafianatalia_719608_29298008_Natalia Bafia- M-Write #1-4.pdf\n"
     ]
    },
    {
     "name": "stderr",
     "output_type": "stream",
     "text": [
      "[INFO] (1/2) Page 1\n",
      "[ERROR] Ignore page 1 due to making page error: invalid literal for int() with base 16: 'x1'\n",
      "[INFO] (2/2) Page 2\n",
      "[ERROR] Ignore page 2 due to making page error: invalid literal for int() with base 16: 'x1'\n",
      "[INFO] Terminated in 0.22s.\n"
     ]
    },
    {
     "name": "stdout",
     "output_type": "stream",
     "text": [
      "File seems to have no text content in it. Skipping file.\n",
      "data/submissions_1916694/watersaidanmasatoshi_LATE_737218_29302697_MWRITE #1.docx\n",
      "data/submissions_1916694/tanefeuwilfried_LATE_638515_29308154_Mwrite.docx\n",
      "data/submissions_1916694/elaridiwadihb_718383_29298834_Research Protocol Memo.docx\n"
     ]
    },
    {
     "name": "stderr",
     "output_type": "stream",
     "text": [
      "[INFO] Start to convert data/submissions_1916694/piagentinimegangrace_728159_29298215_DRAFT movesci MWrite - Google Docs.pdf\n",
      "[INFO] \u001b[1;36m[1/4] Opening document...\u001b[0m\n",
      "[INFO] \u001b[1;36m[2/4] Analyzing document...\u001b[0m\n",
      "[WARNING] Words count: 0. It might be a scanned pdf, which is not supported yet.\n",
      "[INFO] \u001b[1;36m[3/4] Parsing pages...\u001b[0m\n",
      "[INFO] (1/2) Page 1\n",
      "[INFO] (2/2) Page 2\n",
      "[INFO] \u001b[1;36m[4/4] Creating pages...\u001b[0m\n",
      "[INFO] (1/2) Page 1\n",
      "[INFO] (2/2) Page 2\n",
      "[INFO] Terminated in 0.10s.\n"
     ]
    },
    {
     "name": "stdout",
     "output_type": "stream",
     "text": [
      "data/submissions_1916694/piagentinimegangrace_728159_29298215_DRAFT movesci MWrite - Google Docs.pdf\n",
      "File seems to have no text content in it. Skipping file.\n"
     ]
    },
    {
     "name": "stderr",
     "output_type": "stream",
     "text": [
      "[INFO] Start to convert data/submissions_1916694/husseinhadiwael_720339_29300257_MVS 110 Memo - Hussein.pdf\n",
      "[INFO] \u001b[1;36m[1/4] Opening document...\u001b[0m\n",
      "[INFO] \u001b[1;36m[2/4] Analyzing document...\u001b[0m\n",
      "[INFO] \u001b[1;36m[3/4] Parsing pages...\u001b[0m\n",
      "[INFO] (1/2) Page 1\n",
      "[INFO] (2/2) Page 2\n",
      "[INFO] \u001b[1;36m[4/4] Creating pages...\u001b[0m\n",
      "[INFO] (1/2) Page 1\n",
      "[ERROR] Ignore page 1 due to making page error: invalid literal for int() with base 16: 'x1'\n",
      "[INFO] (2/2) Page 2\n",
      "[ERROR] Ignore page 2 due to making page error: invalid literal for int() with base 16: 'x1'\n",
      "[INFO] Terminated in 0.14s.\n"
     ]
    },
    {
     "name": "stdout",
     "output_type": "stream",
     "text": [
      "data/submissions_1916694/husseinhadiwael_720339_29300257_MVS 110 Memo - Hussein.pdf\n"
     ]
    },
    {
     "name": "stderr",
     "output_type": "stream",
     "text": [
      "[INFO] Start to convert data/submissions_1916694/filippiniannabelrinehart_732175_29245215_MWrite Essay 1.pdf\n",
      "[INFO] \u001b[1;36m[1/4] Opening document...\u001b[0m\n",
      "[INFO] \u001b[1;36m[2/4] Analyzing document...\u001b[0m\n",
      "[INFO] \u001b[1;36m[3/4] Parsing pages...\u001b[0m\n",
      "[INFO] (1/2) Page 1\n",
      "[INFO] (2/2) Page 2\n",
      "[INFO] \u001b[1;36m[4/4] Creating pages...\u001b[0m\n",
      "[INFO] (1/2) Page 1\n",
      "[ERROR] Ignore page 1 due to making page error: invalid literal for int() with base 16: 'x1'\n",
      "[INFO] (2/2) Page 2\n",
      "[ERROR] Ignore page 2 due to making page error: invalid literal for int() with base 16: 'x1'\n",
      "[INFO] Terminated in 0.14s.\n"
     ]
    },
    {
     "name": "stdout",
     "output_type": "stream",
     "text": [
      "File seems to have no text content in it. Skipping file.\n",
      "data/submissions_1916694/filippiniannabelrinehart_732175_29245215_MWrite Essay 1.pdf\n"
     ]
    },
    {
     "name": "stderr",
     "output_type": "stream",
     "text": [
      "[INFO] Start to convert data/submissions_1916694/crummphillipa_725608_29298745_MOVESCI CS 1.4.pdf\n",
      "[INFO] \u001b[1;36m[1/4] Opening document...\u001b[0m\n",
      "[INFO] \u001b[1;36m[2/4] Analyzing document...\u001b[0m\n",
      "[INFO] \u001b[1;36m[3/4] Parsing pages...\u001b[0m\n",
      "[INFO] (1/3) Page 1\n",
      "[INFO] (2/3) Page 2\n",
      "[INFO] (3/3) Page 3\n",
      "[INFO] \u001b[1;36m[4/4] Creating pages...\u001b[0m\n",
      "[INFO] (1/3) Page 1\n",
      "[ERROR] Ignore page 1 due to making page error: invalid literal for int() with base 16: 'x1'\n",
      "[INFO] (2/3) Page 2\n",
      "[ERROR] Ignore page 2 due to making page error: invalid literal for int() with base 16: 'x1'\n",
      "[INFO] (3/3) Page 3\n",
      "[ERROR] Ignore page 3 due to making page error: invalid literal for int() with base 16: 'x1'\n",
      "[INFO] Terminated in 0.18s.\n"
     ]
    },
    {
     "name": "stdout",
     "output_type": "stream",
     "text": [
      "File seems to have no text content in it. Skipping file.\n",
      "data/submissions_1916694/crummphillipa_725608_29298745_MOVESCI CS 1.4.pdf\n",
      "File seems to have no text content in it. Skipping file.\n",
      "data/submissions_1916694/lokallisonmarie_LATE_737031_29304171_Mwrite - Allison Lok-1.docx\n",
      "data/submissions_1916694/hayeslogantyler_726838_29268086_MWrite #1_ More Robust Data Collection of Human Gait .docx\n"
     ]
    },
    {
     "name": "stderr",
     "output_type": "stream",
     "text": [
      "[INFO] Start to convert data/submissions_1916694/christopoulosalyssamarie_639400_29301033_movesci 110 - MWrite Draft 1.pdf\n",
      "[INFO] \u001b[1;36m[1/4] Opening document...\u001b[0m\n",
      "[INFO] \u001b[1;36m[2/4] Analyzing document...\u001b[0m\n"
     ]
    },
    {
     "name": "stdout",
     "output_type": "stream",
     "text": [
      "data/submissions_1916694/streiberisabellamarie_643730_29300038_MWrite 1.docx\n",
      "data/submissions_1916694/abdallahjaafar_LATE_654010_29307521_MWRITE #1.docx\n",
      "data/submissions_1916694/christopoulosalyssamarie_639400_29301033_movesci 110 - MWrite Draft 1.pdf\n"
     ]
    },
    {
     "name": "stderr",
     "output_type": "stream",
     "text": [
      "[INFO] \u001b[1;36m[3/4] Parsing pages...\u001b[0m\n",
      "[INFO] (1/2) Page 1\n",
      "[INFO] (2/2) Page 2\n",
      "[INFO] \u001b[1;36m[4/4] Creating pages...\u001b[0m\n",
      "[INFO] (1/2) Page 1\n",
      "[ERROR] Ignore page 1 due to making page error: invalid literal for int() with base 16: 'x1'\n",
      "[INFO] (2/2) Page 2\n",
      "[ERROR] Ignore page 2 due to making page error: invalid literal for int() with base 16: 'x1'\n",
      "[INFO] Terminated in 0.20s.\n",
      "[INFO] Start to convert data/submissions_1916694/grahamgracejudy_636318_29296683_mwritte 1.pdf\n",
      "[INFO] \u001b[1;36m[1/4] Opening document...\u001b[0m\n",
      "[INFO] \u001b[1;36m[2/4] Analyzing document...\u001b[0m\n"
     ]
    },
    {
     "name": "stdout",
     "output_type": "stream",
     "text": [
      "File seems to have no text content in it. Skipping file.\n",
      "data/submissions_1916694/reidannemarie_640236_29292910_mwrite assignment.docx\n",
      "data/submissions_1916694/grahamgracejudy_636318_29296683_mwritte 1.pdf\n"
     ]
    },
    {
     "name": "stderr",
     "output_type": "stream",
     "text": [
      "[INFO] \u001b[1;36m[3/4] Parsing pages...\u001b[0m\n",
      "[INFO] (1/1) Page 1\n",
      "[INFO] \u001b[1;36m[4/4] Creating pages...\u001b[0m\n",
      "[INFO] (1/1) Page 1\n",
      "[ERROR] Ignore page 1 due to making page error: invalid literal for int() with base 16: 'x1'\n",
      "[INFO] Terminated in 0.22s.\n",
      "[INFO] Start to convert data/submissions_1916694/leejosiahshiran_638552_29300288_Mwrite - Gait Data.pdf\n",
      "[INFO] \u001b[1;36m[1/4] Opening document...\u001b[0m\n",
      "[INFO] \u001b[1;36m[2/4] Analyzing document...\u001b[0m\n",
      "[INFO] \u001b[1;36m[3/4] Parsing pages...\u001b[0m\n",
      "[INFO] (1/2) Page 1\n",
      "[INFO] (2/2) Page 2\n"
     ]
    },
    {
     "name": "stdout",
     "output_type": "stream",
     "text": [
      "File seems to have no text content in it. Skipping file.\n",
      "data/submissions_1916694/levlilygold_716594_29217011_Lily Lev - MoveSci MWrite #1.docx\n",
      "data/submissions_1916694/leejosiahshiran_638552_29300288_Mwrite - Gait Data.pdf\n"
     ]
    },
    {
     "name": "stderr",
     "output_type": "stream",
     "text": [
      "[INFO] \u001b[1;36m[4/4] Creating pages...\u001b[0m\n",
      "[INFO] (1/2) Page 1\n",
      "[ERROR] Ignore page 1 due to making page error: invalid literal for int() with base 16: 'xc'\n",
      "[INFO] (2/2) Page 2\n",
      "[ERROR] Ignore page 2 due to making page error: invalid literal for int() with base 16: 'xc'\n",
      "[INFO] Terminated in 0.17s.\n",
      "[INFO] Start to convert data/submissions_1916694/morancade_726119_29300182_Untitled document.pdf\n",
      "[INFO] \u001b[1;36m[1/4] Opening document...\u001b[0m\n",
      "[INFO] \u001b[1;36m[2/4] Analyzing document...\u001b[0m\n",
      "[INFO] \u001b[1;36m[3/4] Parsing pages...\u001b[0m\n",
      "[INFO] (1/2) Page 1\n",
      "[INFO] (2/2) Page 2\n",
      "[INFO] \u001b[1;36m[4/4] Creating pages...\u001b[0m\n",
      "[INFO] (1/2) Page 1\n",
      "[ERROR] Ignore page 1 due to making page error: invalid literal for int() with base 16: 'x1'\n",
      "[INFO] (2/2) Page 2\n",
      "[ERROR] Ignore page 2 due to making page error: invalid literal for int() with base 16: 'x1'\n",
      "[INFO] Terminated in 0.12s.\n"
     ]
    },
    {
     "name": "stdout",
     "output_type": "stream",
     "text": [
      "File seems to have no text content in it. Skipping file.\n",
      "data/submissions_1916694/morancade_726119_29300182_Untitled document.pdf\n"
     ]
    },
    {
     "name": "stderr",
     "output_type": "stream",
     "text": [
      "[INFO] Start to convert data/submissions_1916694/albrechtjessicalynn_638558_29252407_MWrite #1 - MoveSci 110.pdf\n",
      "[INFO] \u001b[1;36m[1/4] Opening document...\u001b[0m\n",
      "[INFO] \u001b[1;36m[2/4] Analyzing document...\u001b[0m\n",
      "[INFO] \u001b[1;36m[3/4] Parsing pages...\u001b[0m\n",
      "[INFO] (1/2) Page 1\n"
     ]
    },
    {
     "name": "stdout",
     "output_type": "stream",
     "text": [
      "File seems to have no text content in it. Skipping file.\n",
      "data/submissions_1916694/scheiweaudra_720039_29238666_movesci 110 mwrite-1.docx\n",
      "data/submissions_1916694/albrechtjessicalynn_638558_29252407_MWrite #1 - MoveSci 110.pdf\n"
     ]
    },
    {
     "name": "stderr",
     "output_type": "stream",
     "text": [
      "[INFO] (2/2) Page 2\n",
      "[INFO] \u001b[1;36m[4/4] Creating pages...\u001b[0m\n",
      "[INFO] (1/2) Page 1\n",
      "[ERROR] Ignore page 1 due to making page error: invalid literal for int() with base 16: 'x1'\n",
      "[INFO] (2/2) Page 2\n",
      "[ERROR] Ignore page 2 due to making page error: invalid literal for int() with base 16: 'x1'\n",
      "[INFO] Terminated in 0.19s.\n"
     ]
    },
    {
     "name": "stdout",
     "output_type": "stream",
     "text": [
      "File seems to have no text content in it. Skipping file.\n",
      "data/submissions_1916694/letri_728953_29295407_MOVESCI 110 - MWrite#1 .docx\n",
      "data/submissions_1916694/shengjadenjames_734484_29301206_MWrite #1-1.docx\n",
      "data/submissions_1916694/priceruthie_720341_29275688_CS 1.4b- Ruthie Price.docx\n"
     ]
    },
    {
     "name": "stderr",
     "output_type": "stream",
     "text": [
      "[INFO] Start to convert data/submissions_1916694/hummelkennedyelise_694366_29297647_MWrite #1.pdf\n",
      "[INFO] \u001b[1;36m[1/4] Opening document...\u001b[0m\n",
      "[INFO] \u001b[1;36m[2/4] Analyzing document...\u001b[0m\n",
      "[INFO] \u001b[1;36m[3/4] Parsing pages...\u001b[0m\n",
      "[INFO] (1/2) Page 1\n",
      "[INFO] (2/2) Page 2\n",
      "[INFO] \u001b[1;36m[4/4] Creating pages...\u001b[0m\n",
      "[INFO] (1/2) Page 1\n",
      "[ERROR] Ignore page 1 due to making page error: invalid literal for int() with base 16: 'x1'\n",
      "[INFO] (2/2) Page 2\n",
      "[ERROR] Ignore page 2 due to making page error: invalid literal for int() with base 16: 'x1'\n",
      "[INFO] Terminated in 0.16s.\n"
     ]
    },
    {
     "name": "stdout",
     "output_type": "stream",
     "text": [
      "data/submissions_1916694/hummelkennedyelise_694366_29297647_MWrite #1.pdf\n"
     ]
    },
    {
     "name": "stderr",
     "output_type": "stream",
     "text": [
      "[INFO] Start to convert data/submissions_1916694/bicknergavinbruce_725325_29299133_MWrite #1.pdf\n",
      "[INFO] \u001b[1;36m[1/4] Opening document...\u001b[0m\n",
      "[INFO] \u001b[1;36m[2/4] Analyzing document...\u001b[0m\n",
      "[INFO] \u001b[1;36m[3/4] Parsing pages...\u001b[0m\n",
      "[INFO] (1/2) Page 1\n",
      "[INFO] (2/2) Page 2\n",
      "[INFO] \u001b[1;36m[4/4] Creating pages...\u001b[0m\n"
     ]
    },
    {
     "name": "stdout",
     "output_type": "stream",
     "text": [
      "File seems to have no text content in it. Skipping file.\n",
      "data/submissions_1916694/bicknergavinbruce_725325_29299133_MWrite #1.pdf\n"
     ]
    },
    {
     "name": "stderr",
     "output_type": "stream",
     "text": [
      "[INFO] (1/2) Page 1\n",
      "[ERROR] Ignore page 1 due to making page error: invalid literal for int() with base 16: 'x1'\n",
      "[INFO] (2/2) Page 2\n",
      "[ERROR] Ignore page 2 due to making page error: invalid literal for int() with base 16: 'x1'\n",
      "[INFO] Terminated in 0.22s.\n",
      "[INFO] Start to convert data/submissions_1916694/viscigliocamilla_707800_29295912_MoveSci Writing Assignment #1 Draft.pdf\n",
      "[INFO] \u001b[1;36m[1/4] Opening document...\u001b[0m\n",
      "[INFO] \u001b[1;36m[2/4] Analyzing document...\u001b[0m\n",
      "[INFO] \u001b[1;36m[3/4] Parsing pages...\u001b[0m\n",
      "[INFO] (1/3) Page 1\n",
      "[INFO] (2/3) Page 2\n",
      "[INFO] (3/3) Page 3\n",
      "[INFO] \u001b[1;36m[4/4] Creating pages...\u001b[0m\n",
      "[INFO] (1/3) Page 1\n",
      "[ERROR] Ignore page 1 due to making page error: invalid literal for int() with base 16: 'x1'\n",
      "[INFO] (2/3) Page 2\n",
      "[ERROR] Ignore page 2 due to making page error: invalid literal for int() with base 16: 'x1'\n",
      "[INFO] (3/3) Page 3\n",
      "[ERROR] Ignore page 3 due to making page error: invalid literal for int() with base 16: 'x1'\n"
     ]
    },
    {
     "name": "stdout",
     "output_type": "stream",
     "text": [
      "File seems to have no text content in it. Skipping file.\n",
      "data/submissions_1916694/viscigliocamilla_707800_29295912_MoveSci Writing Assignment #1 Draft.pdf\n"
     ]
    },
    {
     "name": "stderr",
     "output_type": "stream",
     "text": [
      "[INFO] Terminated in 0.21s.\n",
      "[INFO] Start to convert data/submissions_1916694/estellbenjamind_587553_29263236_MWrite 1 - More Robust Data Collection for Human Gait [First Submission] (2).pdf\n",
      "[INFO] \u001b[1;36m[1/4] Opening document...\u001b[0m\n",
      "[INFO] \u001b[1;36m[2/4] Analyzing document...\u001b[0m\n",
      "[INFO] \u001b[1;36m[3/4] Parsing pages...\u001b[0m\n",
      "[INFO] (1/2) Page 1\n",
      "[INFO] (2/2) Page 2\n",
      "[INFO] \u001b[1;36m[4/4] Creating pages...\u001b[0m\n",
      "[INFO] (1/2) Page 1\n",
      "[ERROR] Ignore page 1 due to making page error: invalid literal for int() with base 16: 'x1'\n",
      "[INFO] (2/2) Page 2\n",
      "[ERROR] Ignore page 2 due to making page error: invalid literal for int() with base 16: 'x1'\n",
      "[INFO] Terminated in 0.15s.\n"
     ]
    },
    {
     "name": "stdout",
     "output_type": "stream",
     "text": [
      "File seems to have no text content in it. Skipping file.\n",
      "data/submissions_1916694/estellbenjamind_587553_29263236_MWrite 1 - More Robust Data Collection for Human Gait [First Submission] (2).pdf\n"
     ]
    },
    {
     "name": "stderr",
     "output_type": "stream",
     "text": [
      "[INFO] Start to convert data/submissions_1916694/waltersjacksonthomas_643499_29294322_Jackson Walters - CS 1.4b MWrite #1 (1).pdf\n",
      "[INFO] \u001b[1;36m[1/4] Opening document...\u001b[0m\n",
      "[INFO] \u001b[1;36m[2/4] Analyzing document...\u001b[0m\n",
      "[INFO] \u001b[1;36m[3/4] Parsing pages...\u001b[0m\n",
      "[INFO] (1/1) Page 1\n"
     ]
    },
    {
     "name": "stdout",
     "output_type": "stream",
     "text": [
      "File seems to have no text content in it. Skipping file.\n",
      "data/submissions_1916694/kimjuno_724796_29296546_Juno Kim - CS 1.4b MWrite #1.docx\n",
      "data/submissions_1916694/waltersjacksonthomas_643499_29294322_Jackson Walters - CS 1.4b MWrite #1 (1).pdf\n"
     ]
    },
    {
     "name": "stderr",
     "output_type": "stream",
     "text": [
      "[INFO] \u001b[1;36m[4/4] Creating pages...\u001b[0m\n",
      "[INFO] (1/1) Page 1\n",
      "[ERROR] Ignore page 1 due to making page error: invalid literal for int() with base 16: 'x1'\n",
      "[INFO] Terminated in 0.15s.\n",
      "[INFO] Start to convert data/submissions_1916694/johnsonaidanclark_708287_29301471_Aidan Johnson M-Write .pdf\n",
      "[INFO] \u001b[1;36m[1/4] Opening document...\u001b[0m\n",
      "[INFO] \u001b[1;36m[2/4] Analyzing document...\u001b[0m\n"
     ]
    },
    {
     "name": "stdout",
     "output_type": "stream",
     "text": [
      "File seems to have no text content in it. Skipping file.\n",
      "data/submissions_1916694/kimkyledae_733936_29295738_CS 1.4b MWrite .docx\n",
      "data/submissions_1916694/johnsonaidanclark_708287_29301471_Aidan Johnson M-Write .pdf\n"
     ]
    },
    {
     "name": "stderr",
     "output_type": "stream",
     "text": [
      "[INFO] \u001b[1;36m[3/4] Parsing pages...\u001b[0m\n",
      "[INFO] (1/2) Page 1\n",
      "[INFO] (2/2) Page 2\n",
      "[INFO] \u001b[1;36m[4/4] Creating pages...\u001b[0m\n",
      "[INFO] (1/2) Page 1\n",
      "[ERROR] Ignore page 1 due to making page error: invalid literal for int() with base 16: 'x1'\n",
      "[INFO] (2/2) Page 2\n",
      "[ERROR] Ignore page 2 due to making page error: invalid literal for int() with base 16: 'x1'\n",
      "[INFO] Terminated in 0.18s.\n",
      "[INFO] Start to convert data/submissions_1916694/lukenjackdavid_LATE_719231_29301768_MWrite #1 CS 1.4b Draft.pdf\n",
      "[INFO] \u001b[1;36m[1/4] Opening document...\u001b[0m\n",
      "[INFO] \u001b[1;36m[2/4] Analyzing document...\u001b[0m\n"
     ]
    },
    {
     "name": "stdout",
     "output_type": "stream",
     "text": [
      "File seems to have no text content in it. Skipping file.\n",
      "data/submissions_1916694/hamblinangelinag_699530_29296075_CS 1.4 MWrite.docx\n",
      "data/submissions_1916694/lukenjackdavid_LATE_719231_29301768_MWrite #1 CS 1.4b Draft.pdf\n"
     ]
    },
    {
     "name": "stderr",
     "output_type": "stream",
     "text": [
      "[INFO] \u001b[1;36m[3/4] Parsing pages...\u001b[0m\n",
      "[INFO] (1/3) Page 1\n",
      "[INFO] (2/3) Page 2\n",
      "[INFO] (3/3) Page 3\n",
      "[INFO] \u001b[1;36m[4/4] Creating pages...\u001b[0m\n",
      "[INFO] (1/3) Page 1\n",
      "[ERROR] Ignore page 1 due to making page error: invalid literal for int() with base 16: 'x1'\n",
      "[INFO] (2/3) Page 2\n",
      "[ERROR] Ignore page 2 due to making page error: invalid literal for int() with base 16: 'x1'\n",
      "[INFO] (3/3) Page 3\n",
      "[ERROR] Ignore page 3 due to making page error: invalid literal for int() with base 16: 'x1'\n",
      "[INFO] Terminated in 0.21s.\n",
      "[INFO] Start to convert data/submissions_1916694/rossiterfrancesann_629454_29298612_110 MWrtie #1.pdf\n",
      "[INFO] \u001b[1;36m[1/4] Opening document...\u001b[0m\n",
      "[INFO] \u001b[1;36m[2/4] Analyzing document...\u001b[0m\n"
     ]
    },
    {
     "name": "stdout",
     "output_type": "stream",
     "text": [
      "File seems to have no text content in it. Skipping file.\n",
      "data/submissions_1916694/bondethan_715831_29301503_M write #1.docx\n",
      "data/submissions_1916694/mccalliglauren_738118_29281661_M-Write 1_ Gait Speed D-1.docx\n",
      "data/submissions_1916694/rossiterfrancesann_629454_29298612_110 MWrtie #1.pdf\n"
     ]
    },
    {
     "name": "stderr",
     "output_type": "stream",
     "text": [
      "[INFO] \u001b[1;36m[3/4] Parsing pages...\u001b[0m\n",
      "[INFO] (1/1) Page 1\n",
      "[INFO] \u001b[1;36m[4/4] Creating pages...\u001b[0m\n",
      "[INFO] (1/1) Page 1\n",
      "[ERROR] Ignore page 1 due to making page error: invalid literal for int() with base 16: 'x1'\n",
      "[INFO] Terminated in 0.14s.\n"
     ]
    },
    {
     "name": "stdout",
     "output_type": "stream",
     "text": [
      "File seems to have no text content in it. Skipping file.\n",
      "data/submissions_1916694/tesslermadison_502622_29245506_MWrite 1 - MT.docx\n",
      "data/submissions_1916694/sawickigretchenmarie_718097_29298376_MWrite 1.docx\n",
      "data/submissions_1916694/visnyakshirleymagdalene_724782_29230480_Mwrite 1 rough draft-1.docx\n"
     ]
    },
    {
     "name": "stderr",
     "output_type": "stream",
     "text": [
      "[INFO] Start to convert data/submissions_1916694/choemoongyu_726634_29301440_CS 1.4b MWrite #1 - Google Docs.pdf\n",
      "[INFO] \u001b[1;36m[1/4] Opening document...\u001b[0m\n",
      "[INFO] \u001b[1;36m[2/4] Analyzing document...\u001b[0m\n",
      "[INFO] \u001b[1;36m[3/4] Parsing pages...\u001b[0m\n",
      "[INFO] (1/3) Page 1\n",
      "[INFO] (2/3) Page 2\n"
     ]
    },
    {
     "name": "stdout",
     "output_type": "stream",
     "text": [
      "data/submissions_1916694/khawajacodei_720410_29291861_M Write #1 Memo.docx\n",
      "data/submissions_1916694/choemoongyu_726634_29301440_CS 1.4b MWrite #1 - Google Docs.pdf\n"
     ]
    },
    {
     "name": "stderr",
     "output_type": "stream",
     "text": [
      "[INFO] (3/3) Page 3\n",
      "[INFO] \u001b[1;36m[4/4] Creating pages...\u001b[0m\n",
      "[INFO] (1/3) Page 1\n",
      "[ERROR] Ignore page 1 due to making page error: invalid literal for int() with base 16: 'x1'\n",
      "[INFO] (2/3) Page 2\n",
      "[ERROR] Ignore page 2 due to making page error: invalid literal for int() with base 16: 'x1'\n",
      "[INFO] (3/3) Page 3\n",
      "[ERROR] Ignore page 3 due to making page error: invalid literal for int() with base 16: 'x1'\n",
      "[INFO] Terminated in 0.18s.\n",
      "[INFO] Start to convert data/submissions_1916694/mikiconanakira_737998_29300581_CS 1.4 MWrite.pdf\n",
      "[INFO] \u001b[1;36m[1/4] Opening document...\u001b[0m\n",
      "[INFO] \u001b[1;36m[2/4] Analyzing document...\u001b[0m\n"
     ]
    },
    {
     "name": "stdout",
     "output_type": "stream",
     "text": [
      "File seems to have no text content in it. Skipping file.\n",
      "data/submissions_1916694/simenyiletitia_629963_29294521_MWrite #1.docx\n",
      "data/submissions_1916694/blanconinagrace_734558_29296094_mwrite #1.docx\n",
      "data/submissions_1916694/mikiconanakira_737998_29300581_CS 1.4 MWrite.pdf\n"
     ]
    },
    {
     "name": "stderr",
     "output_type": "stream",
     "text": [
      "[INFO] \u001b[1;36m[3/4] Parsing pages...\u001b[0m\n",
      "[INFO] (1/2) Page 1\n",
      "[INFO] (2/2) Page 2\n",
      "[INFO] \u001b[1;36m[4/4] Creating pages...\u001b[0m\n",
      "[INFO] (1/2) Page 1\n",
      "[ERROR] Ignore page 1 due to making page error: invalid literal for int() with base 16: 'x1'\n",
      "[INFO] (2/2) Page 2\n",
      "[ERROR] Ignore page 2 due to making page error: invalid literal for int() with base 16: 'x1'\n",
      "[INFO] Terminated in 0.16s.\n",
      "[INFO] Start to convert data/submissions_1916694/humpertcamrynelizabeth_LATE_731260_29309780_Mwrite #1- Movesci.pdf\n",
      "[INFO] \u001b[1;36m[1/4] Opening document...\u001b[0m\n",
      "[INFO] \u001b[1;36m[2/4] Analyzing document...\u001b[0m\n",
      "[INFO] \u001b[1;36m[3/4] Parsing pages...\u001b[0m\n",
      "[INFO] (1/3) Page 1\n",
      "[INFO] (2/3) Page 2\n",
      "[INFO] (3/3) Page 3\n",
      "[INFO] \u001b[1;36m[4/4] Creating pages...\u001b[0m\n",
      "[INFO] (1/3) Page 1\n",
      "[ERROR] Ignore page 1 due to making page error: invalid literal for int() with base 16: 'x1'\n",
      "[INFO] (2/3) Page 2\n",
      "[ERROR] Ignore page 2 due to making page error: invalid literal for int() with base 16: 'x1'\n",
      "[INFO] (3/3) Page 3\n",
      "[ERROR] Ignore page 3 due to making page error: invalid literal for int() with base 16: 'x1'\n",
      "[INFO] Terminated in 0.13s.\n"
     ]
    },
    {
     "name": "stdout",
     "output_type": "stream",
     "text": [
      "File seems to have no text content in it. Skipping file.\n",
      "data/submissions_1916694/humpertcamrynelizabeth_LATE_731260_29309780_Mwrite #1- Movesci.pdf\n"
     ]
    },
    {
     "name": "stderr",
     "output_type": "stream",
     "text": [
      "[INFO] Start to convert data/submissions_1916694/zhengmaggie_LATE_737258_29315078_Movesci 110_ CS 1.4b Mwrite #1.pdf\n",
      "[INFO] \u001b[1;36m[1/4] Opening document...\u001b[0m\n",
      "[INFO] \u001b[1;36m[2/4] Analyzing document...\u001b[0m\n",
      "[INFO] \u001b[1;36m[3/4] Parsing pages...\u001b[0m\n",
      "[INFO] (1/3) Page 1\n",
      "[INFO] (2/3) Page 2\n",
      "[INFO] (3/3) Page 3\n"
     ]
    },
    {
     "name": "stdout",
     "output_type": "stream",
     "text": [
      "File seems to have no text content in it. Skipping file.\n",
      "data/submissions_1916694/zhengmaggie_LATE_737258_29315078_Movesci 110_ CS 1.4b Mwrite #1.pdf\n"
     ]
    },
    {
     "name": "stderr",
     "output_type": "stream",
     "text": [
      "[INFO] \u001b[1;36m[4/4] Creating pages...\u001b[0m\n",
      "[INFO] (1/3) Page 1\n",
      "[ERROR] Ignore page 1 due to making page error: invalid literal for int() with base 16: 'x1'\n",
      "[INFO] (2/3) Page 2\n",
      "[ERROR] Ignore page 2 due to making page error: invalid literal for int() with base 16: 'x1'\n",
      "[INFO] (3/3) Page 3\n",
      "[ERROR] Ignore page 3 due to making page error: invalid literal for int() with base 16: 'x1'\n",
      "[INFO] Terminated in 0.23s.\n",
      "[INFO] Start to convert data/submissions_1916694/luceycolleenann_733568_29300601_MWRITE #1_ More Robust Data Collection of Human Gate.pdf\n",
      "[INFO] \u001b[1;36m[1/4] Opening document...\u001b[0m\n",
      "[INFO] \u001b[1;36m[2/4] Analyzing document...\u001b[0m\n",
      "[INFO] \u001b[1;36m[3/4] Parsing pages...\u001b[0m\n",
      "[INFO] (1/2) Page 1\n",
      "[INFO] (2/2) Page 2\n",
      "[INFO] \u001b[1;36m[4/4] Creating pages...\u001b[0m\n",
      "[INFO] (1/2) Page 1\n",
      "[ERROR] Ignore page 1 due to making page error: invalid literal for int() with base 16: 'x1'\n",
      "[INFO] (2/2) Page 2\n",
      "[ERROR] Ignore page 2 due to making page error: invalid literal for int() with base 16: 'x1'\n",
      "[INFO] Terminated in 0.17s.\n"
     ]
    },
    {
     "name": "stdout",
     "output_type": "stream",
     "text": [
      "File seems to have no text content in it. Skipping file.\n",
      "data/submissions_1916694/luceycolleenann_733568_29300601_MWRITE #1_ More Robust Data Collection of Human Gate.pdf\n"
     ]
    },
    {
     "name": "stderr",
     "output_type": "stream",
     "text": [
      "[INFO] Start to convert data/submissions_1916694/futteralexandermichaeledward_735900_29293340_Memo.pdf\n",
      "[INFO] \u001b[1;36m[1/4] Opening document...\u001b[0m\n",
      "[INFO] \u001b[1;36m[2/4] Analyzing document...\u001b[0m\n",
      "[INFO] \u001b[1;36m[3/4] Parsing pages...\u001b[0m\n",
      "[INFO] (1/2) Page 1\n",
      "[INFO] (2/2) Page 2\n",
      "[INFO] \u001b[1;36m[4/4] Creating pages...\u001b[0m\n"
     ]
    },
    {
     "name": "stdout",
     "output_type": "stream",
     "text": [
      "File seems to have no text content in it. Skipping file.\n",
      "data/submissions_1916694/futteralexandermichaeledward_735900_29293340_Memo.pdf\n"
     ]
    },
    {
     "name": "stderr",
     "output_type": "stream",
     "text": [
      "[INFO] (1/2) Page 1\n",
      "[ERROR] Ignore page 1 due to making page error: invalid literal for int() with base 16: 'x1'\n",
      "[INFO] (2/2) Page 2\n",
      "[ERROR] Ignore page 2 due to making page error: invalid literal for int() with base 16: 'x1'\n",
      "[INFO] Terminated in 0.23s.\n",
      "[INFO] Start to convert data/submissions_1916694/vitalfloresadileniangel_729614_29299340_First Draft_ Move Sci.pdf\n",
      "[INFO] \u001b[1;36m[1/4] Opening document...\u001b[0m\n",
      "[INFO] \u001b[1;36m[2/4] Analyzing document...\u001b[0m\n",
      "[INFO] \u001b[1;36m[3/4] Parsing pages...\u001b[0m\n",
      "[INFO] (1/2) Page 1\n",
      "[INFO] (2/2) Page 2\n"
     ]
    },
    {
     "name": "stdout",
     "output_type": "stream",
     "text": [
      "File seems to have no text content in it. Skipping file.\n",
      "data/submissions_1916694/deguiaaudreyjustine_730444_29300844_movesci mwrite 1.docx\n",
      "data/submissions_1916694/vitalfloresadileniangel_729614_29299340_First Draft_ Move Sci.pdf\n"
     ]
    },
    {
     "name": "stderr",
     "output_type": "stream",
     "text": [
      "[INFO] \u001b[1;36m[4/4] Creating pages...\u001b[0m\n",
      "[INFO] (1/2) Page 1\n",
      "[ERROR] Ignore page 1 due to making page error: invalid literal for int() with base 16: 'x1'\n",
      "[INFO] (2/2) Page 2\n",
      "[ERROR] Ignore page 2 due to making page error: invalid literal for int() with base 16: 'x1'\n",
      "[INFO] Terminated in 0.14s.\n",
      "[INFO] Start to convert data/submissions_1916694/streubeloceane_725661_29293178_MWrite #1 Draft.pdf\n",
      "[INFO] \u001b[1;36m[1/4] Opening document...\u001b[0m\n",
      "[INFO] \u001b[1;36m[2/4] Analyzing document...\u001b[0m\n",
      "[INFO] \u001b[1;36m[3/4] Parsing pages...\u001b[0m\n",
      "[INFO] (1/2) Page 1\n",
      "[INFO] (2/2) Page 2\n",
      "[INFO] \u001b[1;36m[4/4] Creating pages...\u001b[0m\n",
      "[INFO] (1/2) Page 1\n",
      "[ERROR] Ignore page 1 due to making page error: invalid literal for int() with base 16: 'x1'\n",
      "[INFO] (2/2) Page 2\n",
      "[ERROR] Ignore page 2 due to making page error: invalid literal for int() with base 16: 'x1'\n"
     ]
    },
    {
     "name": "stdout",
     "output_type": "stream",
     "text": [
      "File seems to have no text content in it. Skipping file.\n",
      "data/submissions_1916694/streubeloceane_725661_29293178_MWrite #1 Draft.pdf\n"
     ]
    },
    {
     "name": "stderr",
     "output_type": "stream",
     "text": [
      "[INFO] Terminated in 0.21s.\n",
      "[INFO] Start to convert data/submissions_1916694/rollerkelseymarie_642942_29241879_Human Gait Paper- First Submission.pdf\n",
      "[INFO] \u001b[1;36m[1/4] Opening document...\u001b[0m\n",
      "[INFO] \u001b[1;36m[2/4] Analyzing document...\u001b[0m\n"
     ]
    },
    {
     "name": "stdout",
     "output_type": "stream",
     "text": [
      "File seems to have no text content in it. Skipping file.\n",
      "data/submissions_1916694/aksaytolanfurutani_736169_29290424_Memo.docx\n",
      "data/submissions_1916694/rollerkelseymarie_642942_29241879_Human Gait Paper- First Submission.pdf\n"
     ]
    },
    {
     "name": "stderr",
     "output_type": "stream",
     "text": [
      "[INFO] \u001b[1;36m[3/4] Parsing pages...\u001b[0m\n",
      "[INFO] (1/1) Page 1\n",
      "[INFO] \u001b[1;36m[4/4] Creating pages...\u001b[0m\n",
      "[INFO] (1/1) Page 1\n",
      "[ERROR] Ignore page 1 due to making page error: invalid literal for int() with base 16: 'x1'\n",
      "[INFO] Terminated in 0.19s.\n",
      "[INFO] Start to convert data/submissions_1916694/sluiterannanoel_642596_29293594_Mwrite .pdf\n",
      "[INFO] \u001b[1;36m[1/4] Opening document...\u001b[0m\n",
      "[INFO] \u001b[1;36m[2/4] Analyzing document...\u001b[0m\n",
      "[INFO] \u001b[1;36m[3/4] Parsing pages...\u001b[0m\n",
      "[INFO] (1/3) Page 1\n",
      "[INFO] (2/3) Page 2\n",
      "[INFO] (3/3) Page 3\n",
      "[INFO] \u001b[1;36m[4/4] Creating pages...\u001b[0m\n",
      "[INFO] (1/3) Page 1\n",
      "[ERROR] Ignore page 1 due to making page error: invalid literal for int() with base 16: 'x1'\n",
      "[INFO] (2/3) Page 2\n",
      "[ERROR] Ignore page 2 due to making page error: invalid literal for int() with base 16: 'x1'\n",
      "[INFO] (3/3) Page 3\n",
      "[ERROR] Ignore page 3 due to making page error: invalid literal for int() with base 16: 'x1'\n",
      "[INFO] Terminated in 0.18s.\n"
     ]
    },
    {
     "name": "stdout",
     "output_type": "stream",
     "text": [
      "File seems to have no text content in it. Skipping file.\n",
      "data/submissions_1916694/sluiterannanoel_642596_29293594_Mwrite .pdf\n"
     ]
    },
    {
     "name": "stderr",
     "output_type": "stream",
     "text": [
      "[INFO] Start to convert data/submissions_1916694/bradypiperelizabeth_763505_29299316_CS 1.4b MWrite #1.pdf\n",
      "[INFO] \u001b[1;36m[1/4] Opening document...\u001b[0m\n",
      "[INFO] \u001b[1;36m[2/4] Analyzing document...\u001b[0m\n",
      "[INFO] \u001b[1;36m[3/4] Parsing pages...\u001b[0m\n",
      "[INFO] (1/3) Page 1\n",
      "[INFO] (2/3) Page 2\n"
     ]
    },
    {
     "name": "stdout",
     "output_type": "stream",
     "text": [
      "File seems to have no text content in it. Skipping file.\n",
      "data/submissions_1916694/yungsummerweiyen_735840_29296092_MoveSci 110 - MWrite #1-1.docx\n",
      "data/submissions_1916694/bradypiperelizabeth_763505_29299316_CS 1.4b MWrite #1.pdf\n"
     ]
    },
    {
     "name": "stderr",
     "output_type": "stream",
     "text": [
      "[INFO] (3/3) Page 3\n",
      "[INFO] \u001b[1;36m[4/4] Creating pages...\u001b[0m\n",
      "[INFO] (1/3) Page 1\n",
      "[ERROR] Ignore page 1 due to making page error: invalid literal for int() with base 16: 'x1'\n",
      "[INFO] (2/3) Page 2\n",
      "[ERROR] Ignore page 2 due to making page error: invalid literal for int() with base 16: 'x1'\n",
      "[INFO] (3/3) Page 3\n",
      "[ERROR] Ignore page 3 due to making page error: invalid literal for int() with base 16: 'x1'\n",
      "[INFO] Terminated in 0.16s.\n",
      "[INFO] Start to convert data/submissions_1916694/minorautumnrenee_709022_29301397_MWrite #1.pdf\n",
      "[INFO] \u001b[1;36m[1/4] Opening document...\u001b[0m\n",
      "[INFO] \u001b[1;36m[2/4] Analyzing document...\u001b[0m\n",
      "[INFO] \u001b[1;36m[3/4] Parsing pages...\u001b[0m\n",
      "[INFO] (1/2) Page 1\n",
      "[INFO] (2/2) Page 2\n",
      "[INFO] \u001b[1;36m[4/4] Creating pages...\u001b[0m\n",
      "[INFO] (1/2) Page 1\n",
      "[ERROR] Ignore page 1 due to making page error: invalid literal for int() with base 16: 'x1'\n",
      "[INFO] (2/2) Page 2\n",
      "[ERROR] Ignore page 2 due to making page error: invalid literal for int() with base 16: 'x1'\n",
      "[INFO] Terminated in 0.14s.\n"
     ]
    },
    {
     "name": "stdout",
     "output_type": "stream",
     "text": [
      "File seems to have no text content in it. Skipping file.\n",
      "data/submissions_1916694/minorautumnrenee_709022_29301397_MWrite #1.pdf\n"
     ]
    },
    {
     "name": "stderr",
     "output_type": "stream",
     "text": [
      "[INFO] Start to convert data/submissions_1916694/rohrcalielisabeth_665238_29267159_Movesci Mwrite #1.pdf\n",
      "[INFO] \u001b[1;36m[1/4] Opening document...\u001b[0m\n",
      "[INFO] \u001b[1;36m[2/4] Analyzing document...\u001b[0m\n"
     ]
    },
    {
     "name": "stdout",
     "output_type": "stream",
     "text": [
      "File seems to have no text content in it. Skipping file.\n",
      "data/submissions_1916694/kegleycody_LATE_556503_29302101_MWrite Prompt #1.docx\n",
      "data/submissions_1916694/rohrcalielisabeth_665238_29267159_Movesci Mwrite #1.pdf\n"
     ]
    },
    {
     "name": "stderr",
     "output_type": "stream",
     "text": [
      "[INFO] \u001b[1;36m[3/4] Parsing pages...\u001b[0m\n",
      "[INFO] (1/3) Page 1\n",
      "[INFO] (2/3) Page 2\n",
      "[INFO] (3/3) Page 3\n",
      "[INFO] \u001b[1;36m[4/4] Creating pages...\u001b[0m\n",
      "[INFO] (1/3) Page 1\n",
      "[ERROR] Ignore page 1 due to making page error: invalid literal for int() with base 16: 'x1'\n",
      "[INFO] (2/3) Page 2\n",
      "[ERROR] Ignore page 2 due to making page error: invalid literal for int() with base 16: 'x1'\n",
      "[INFO] (3/3) Page 3\n",
      "[ERROR] Ignore page 3 due to making page error: invalid literal for int() with base 16: 'x1'\n",
      "[INFO] Terminated in 0.20s.\n",
      "[INFO] Start to convert data/submissions_1916694/pricelaurenrose_720862_29292666_CS 1.4b MWrite #1_ More Robust Data Collection of Human Gait.pdf\n",
      "[INFO] \u001b[1;36m[1/4] Opening document...\u001b[0m\n",
      "[INFO] \u001b[1;36m[2/4] Analyzing document...\u001b[0m\n",
      "[INFO] \u001b[1;36m[3/4] Parsing pages...\u001b[0m\n",
      "[INFO] (1/2) Page 1\n",
      "[INFO] (2/2) Page 2\n",
      "[INFO] \u001b[1;36m[4/4] Creating pages...\u001b[0m\n",
      "[INFO] (1/2) Page 1\n",
      "[ERROR] Ignore page 1 due to making page error: invalid literal for int() with base 16: 'x1'\n",
      "[INFO] (2/2) Page 2\n",
      "[ERROR] Ignore page 2 due to making page error: invalid literal for int() with base 16: 'x1'\n"
     ]
    },
    {
     "name": "stdout",
     "output_type": "stream",
     "text": [
      "File seems to have no text content in it. Skipping file.\n",
      "data/submissions_1916694/pricelaurenrose_720862_29292666_CS 1.4b MWrite #1_ More Robust Data Collection of Human Gait.pdf\n"
     ]
    },
    {
     "name": "stderr",
     "output_type": "stream",
     "text": [
      "[INFO] Terminated in 0.21s.\n",
      "[INFO] Start to convert data/submissions_1916694/needhamdessakealoha_738021_29299016_Mwrite draft 1_Dessa Needham.pdf\n",
      "[INFO] \u001b[1;36m[1/4] Opening document...\u001b[0m\n",
      "[INFO] \u001b[1;36m[2/4] Analyzing document...\u001b[0m\n",
      "[INFO] \u001b[1;36m[3/4] Parsing pages...\u001b[0m\n",
      "[INFO] (1/2) Page 1\n",
      "[INFO] (2/2) Page 2\n",
      "[INFO] \u001b[1;36m[4/4] Creating pages...\u001b[0m\n",
      "[INFO] (1/2) Page 1\n",
      "[ERROR] Ignore page 1 due to making page error: invalid literal for int() with base 16: 'x1'\n",
      "[INFO] (2/2) Page 2\n",
      "[ERROR] Ignore page 2 due to making page error: invalid literal for int() with base 16: 'x1'\n",
      "[INFO] Terminated in 0.16s.\n"
     ]
    },
    {
     "name": "stdout",
     "output_type": "stream",
     "text": [
      "File seems to have no text content in it. Skipping file.\n",
      "data/submissions_1916694/needhamdessakealoha_738021_29299016_Mwrite draft 1_Dessa Needham.pdf\n"
     ]
    },
    {
     "name": "stderr",
     "output_type": "stream",
     "text": [
      "[INFO] Start to convert data/submissions_1916694/sheltonkyliesue_638791_29230346_MOVESCI 110 1st MWrite (1).pdf\n",
      "[INFO] \u001b[1;36m[1/4] Opening document...\u001b[0m\n",
      "[INFO] \u001b[1;36m[2/4] Analyzing document...\u001b[0m\n",
      "[INFO] \u001b[1;36m[3/4] Parsing pages...\u001b[0m\n",
      "[INFO] (1/2) Page 1\n",
      "[INFO] (2/2) Page 2\n",
      "[INFO] \u001b[1;36m[4/4] Creating pages...\u001b[0m\n",
      "[INFO] (1/2) Page 1\n",
      "[ERROR] Ignore page 1 due to making page error: invalid literal for int() with base 16: 'x1'\n",
      "[INFO] (2/2) Page 2\n",
      "[ERROR] Ignore page 2 due to making page error: invalid literal for int() with base 16: 'x1'\n",
      "[INFO] Terminated in 0.16s.\n"
     ]
    },
    {
     "name": "stdout",
     "output_type": "stream",
     "text": [
      "File seems to have no text content in it. Skipping file.\n",
      "data/submissions_1916694/sheltonkyliesue_638791_29230346_MOVESCI 110 1st MWrite (1).pdf\n"
     ]
    },
    {
     "name": "stderr",
     "output_type": "stream",
     "text": [
      "[INFO] Start to convert data/submissions_1916694/yujustinedward_727657_29301067_MOVESCI 110, CS 1.4b.pdf\n",
      "[INFO] \u001b[1;36m[1/4] Opening document...\u001b[0m\n",
      "[INFO] \u001b[1;36m[2/4] Analyzing document...\u001b[0m\n"
     ]
    },
    {
     "name": "stdout",
     "output_type": "stream",
     "text": [
      "File seems to have no text content in it. Skipping file.\n",
      "data/submissions_1916694/kalatacarolynannette_656715_29298027_CS 1.4b MWrite #1.docx\n",
      "data/submissions_1916694/ambrosemadilynnjane_709020_29299793_MWrite #1 .docx\n",
      "data/submissions_1916694/yujustinedward_727657_29301067_MOVESCI 110, CS 1.4b.pdf\n"
     ]
    },
    {
     "name": "stderr",
     "output_type": "stream",
     "text": [
      "[INFO] \u001b[1;36m[3/4] Parsing pages...\u001b[0m\n",
      "[INFO] (1/2) Page 1\n",
      "[INFO] (2/2) Page 2\n",
      "[INFO] \u001b[1;36m[4/4] Creating pages...\u001b[0m\n",
      "[INFO] (1/2) Page 1\n",
      "[ERROR] Ignore page 1 due to making page error: invalid literal for int() with base 16: 'x1'\n",
      "[INFO] (2/2) Page 2\n",
      "[ERROR] Ignore page 2 due to making page error: invalid literal for int() with base 16: 'x1'\n",
      "[INFO] Terminated in 0.15s.\n",
      "[INFO] Start to convert data/submissions_1916694/velatmariaelizabeth_721129_29301429_C.S. 1.4b- MWrite #1.pdf\n",
      "[INFO] \u001b[1;36m[1/4] Opening document...\u001b[0m\n",
      "[INFO] \u001b[1;36m[2/4] Analyzing document...\u001b[0m\n"
     ]
    },
    {
     "name": "stdout",
     "output_type": "stream",
     "text": [
      "File seems to have no text content in it. Skipping file.\n",
      "data/submissions_1916694/salmansummer_664775_29281935_Movesci MWrite 1.docx\n",
      "data/submissions_1916694/velatmariaelizabeth_721129_29301429_C.S. 1.4b- MWrite #1.pdf\n"
     ]
    },
    {
     "name": "stderr",
     "output_type": "stream",
     "text": [
      "[INFO] \u001b[1;36m[3/4] Parsing pages...\u001b[0m\n",
      "[INFO] (1/2) Page 1\n",
      "[INFO] (2/2) Page 2\n",
      "[INFO] \u001b[1;36m[4/4] Creating pages...\u001b[0m\n",
      "[INFO] (1/2) Page 1\n",
      "[ERROR] Ignore page 1 due to making page error: invalid literal for int() with base 16: 'x1'\n",
      "[INFO] (2/2) Page 2\n",
      "[ERROR] Ignore page 2 due to making page error: invalid literal for int() with base 16: 'x1'\n",
      "[INFO] Terminated in 0.24s.\n",
      "[INFO] Start to convert data/submissions_1916694/muallafawzi_724560_29296689_Gait Speed - MWrite.pdf\n",
      "[INFO] \u001b[1;36m[1/4] Opening document...\u001b[0m\n",
      "[INFO] \u001b[1;36m[2/4] Analyzing document...\u001b[0m\n",
      "[INFO] \u001b[1;36m[3/4] Parsing pages...\u001b[0m\n",
      "[INFO] (1/2) Page 1\n",
      "[INFO] (2/2) Page 2\n"
     ]
    },
    {
     "name": "stdout",
     "output_type": "stream",
     "text": [
      "File seems to have no text content in it. Skipping file.\n",
      "data/submissions_1916694/caluaggyanfarrellmirador_719404_29299858_caluag- cs 1.4b.docx\n",
      "data/submissions_1916694/muallafawzi_724560_29296689_Gait Speed - MWrite.pdf\n"
     ]
    },
    {
     "name": "stderr",
     "output_type": "stream",
     "text": [
      "[INFO] \u001b[1;36m[4/4] Creating pages...\u001b[0m\n",
      "[INFO] (1/2) Page 1\n",
      "[ERROR] Ignore page 1 due to making page error: invalid literal for int() with base 16: 'xd'\n",
      "[INFO] (2/2) Page 2\n",
      "[ERROR] Ignore page 2 due to making page error: invalid literal for int() with base 16: 'xd'\n",
      "[INFO] Terminated in 0.17s.\n",
      "[INFO] Start to convert data/submissions_1916694/onixtbaileyruth_710283_29292292_Memo #1.pdf\n",
      "[INFO] \u001b[1;36m[1/4] Opening document...\u001b[0m\n",
      "[INFO] \u001b[1;36m[2/4] Analyzing document...\u001b[0m\n",
      "[INFO] \u001b[1;36m[3/4] Parsing pages...\u001b[0m\n",
      "[INFO] (1/1) Page 1\n",
      "[INFO] \u001b[1;36m[4/4] Creating pages...\u001b[0m\n",
      "[INFO] (1/1) Page 1\n",
      "[ERROR] Ignore page 1 due to making page error: invalid literal for int() with base 16: 'x1'\n",
      "[INFO] Terminated in 0.16s.\n"
     ]
    },
    {
     "name": "stdout",
     "output_type": "stream",
     "text": [
      "File seems to have no text content in it. Skipping file.\n",
      "data/submissions_1916694/onixtbaileyruth_710283_29292292_Memo #1.pdf\n"
     ]
    },
    {
     "name": "stderr",
     "output_type": "stream",
     "text": [
      "[INFO] Start to convert data/submissions_1916694/belcrestmatthewseamus_732180_29292969_M Write  (1).pdf\n",
      "[INFO] \u001b[1;36m[1/4] Opening document...\u001b[0m\n",
      "[INFO] \u001b[1;36m[2/4] Analyzing document...\u001b[0m\n"
     ]
    },
    {
     "name": "stdout",
     "output_type": "stream",
     "text": [
      "File seems to have no text content in it. Skipping file.\n",
      "data/submissions_1916694/xiaomichelle_737505_29296551_CS 1.4b-1.docx\n",
      "data/submissions_1916694/schaeferlukassullivan_734512_29299693_CS 1.4b MWrite #1.docx\n",
      "data/submissions_1916694/belcrestmatthewseamus_732180_29292969_M Write  (1).pdf\n"
     ]
    },
    {
     "name": "stderr",
     "output_type": "stream",
     "text": [
      "[INFO] \u001b[1;36m[3/4] Parsing pages...\u001b[0m\n",
      "[INFO] (1/2) Page 1\n",
      "[INFO] (2/2) Page 2\n",
      "[INFO] \u001b[1;36m[4/4] Creating pages...\u001b[0m\n",
      "[INFO] (1/2) Page 1\n",
      "[ERROR] Ignore page 1 due to making page error: invalid literal for int() with base 16: 'x1'\n",
      "[INFO] (2/2) Page 2\n",
      "[ERROR] Ignore page 2 due to making page error: invalid literal for int() with base 16: 'x1'\n",
      "[INFO] Terminated in 0.21s.\n",
      "[INFO] Start to convert data/submissions_1916694/lietzclairemarie_728074_29230500_CS 1.4b MWrite #1_ More Robust Data Collection of Human Gait (1).pdf\n",
      "[INFO] \u001b[1;36m[1/4] Opening document...\u001b[0m\n",
      "[INFO] \u001b[1;36m[2/4] Analyzing document...\u001b[0m\n",
      "[INFO] \u001b[1;36m[3/4] Parsing pages...\u001b[0m\n",
      "[INFO] (1/2) Page 1\n",
      "[INFO] (2/2) Page 2\n",
      "[INFO] \u001b[1;36m[4/4] Creating pages...\u001b[0m\n",
      "[INFO] (1/2) Page 1\n",
      "[ERROR] Ignore page 1 due to making page error: invalid literal for int() with base 16: 'x1'\n",
      "[INFO] (2/2) Page 2\n",
      "[ERROR] Ignore page 2 due to making page error: invalid literal for int() with base 16: 'x1'\n",
      "[INFO] Terminated in 0.18s.\n"
     ]
    },
    {
     "name": "stdout",
     "output_type": "stream",
     "text": [
      "File seems to have no text content in it. Skipping file.\n",
      "data/submissions_1916694/lietzclairemarie_728074_29230500_CS 1.4b MWrite #1_ More Robust Data Collection of Human Gait (1).pdf\n"
     ]
    },
    {
     "name": "stderr",
     "output_type": "stream",
     "text": [
      "[INFO] Start to convert data/submissions_1916694/jaafarlinaali_640287_29299330_MWrite 1 Draft.pdf\n",
      "[INFO] \u001b[1;36m[1/4] Opening document...\u001b[0m\n",
      "[INFO] \u001b[1;36m[2/4] Analyzing document...\u001b[0m\n"
     ]
    },
    {
     "name": "stdout",
     "output_type": "stream",
     "text": [
      "File seems to have no text content in it. Skipping file.\n",
      "data/submissions_1916694/berlentchad_LATE_713031_29303488_MWrite #1.docx\n",
      "data/submissions_1916694/jaafarlinaali_640287_29299330_MWrite 1 Draft.pdf\n"
     ]
    },
    {
     "name": "stderr",
     "output_type": "stream",
     "text": [
      "[INFO] \u001b[1;36m[3/4] Parsing pages...\u001b[0m\n",
      "[INFO] (1/2) Page 1\n",
      "[INFO] (2/2) Page 2\n",
      "[INFO] \u001b[1;36m[4/4] Creating pages...\u001b[0m\n",
      "[INFO] (1/2) Page 1\n",
      "[ERROR] Ignore page 1 due to making page error: invalid literal for int() with base 16: 'x1'\n",
      "[INFO] (2/2) Page 2\n",
      "[ERROR] Ignore page 2 due to making page error: invalid literal for int() with base 16: 'x1'\n",
      "[INFO] Terminated in 0.21s.\n"
     ]
    },
    {
     "name": "stdout",
     "output_type": "stream",
     "text": [
      "File seems to have no text content in it. Skipping file.\n",
      "data/submissions_1916694/potochnyhannahgrace_673779_29300773_To_ Research Team.docx\n",
      "data/submissions_1916694/tongnhi_727838_29297755_MWrite #1_ More Robust Data Collection of Human Gaits.docx\n",
      "data/submissions_1916694/kerkauemma_711536_29295496_CS 1.4b MWrite #1.docx\n"
     ]
    },
    {
     "name": "stderr",
     "output_type": "stream",
     "text": [
      "[INFO] Start to convert data/submissions_1916694/ravitzarianaelizabeth_727217_29300790_MWrite_Ariana Ravitz First Submission.pdf\n",
      "[INFO] \u001b[1;36m[1/4] Opening document...\u001b[0m\n",
      "[INFO] \u001b[1;36m[2/4] Analyzing document...\u001b[0m\n",
      "[INFO] \u001b[1;36m[3/4] Parsing pages...\u001b[0m\n",
      "[INFO] (1/2) Page 1\n",
      "[INFO] (2/2) Page 2\n",
      "[INFO] \u001b[1;36m[4/4] Creating pages...\u001b[0m\n",
      "[INFO] (1/2) Page 1\n",
      "[ERROR] Ignore page 1 due to making page error: invalid literal for int() with base 16: 'x1'\n",
      "[INFO] (2/2) Page 2\n",
      "[ERROR] Ignore page 2 due to making page error: invalid literal for int() with base 16: 'x1'\n",
      "[INFO] Terminated in 0.17s.\n"
     ]
    },
    {
     "name": "stdout",
     "output_type": "stream",
     "text": [
      "data/submissions_1916694/ravitzarianaelizabeth_727217_29300790_MWrite_Ariana Ravitz First Submission.pdf\n"
     ]
    },
    {
     "name": "stderr",
     "output_type": "stream",
     "text": [
      "[INFO] Start to convert data/submissions_1916694/dubosechloesky_647280_29301378_MWrite #1.pdf\n",
      "[INFO] \u001b[1;36m[1/4] Opening document...\u001b[0m\n",
      "[INFO] \u001b[1;36m[2/4] Analyzing document...\u001b[0m\n",
      "[INFO] \u001b[1;36m[3/4] Parsing pages...\u001b[0m\n",
      "[INFO] (1/2) Page 1\n",
      "[INFO] (2/2) Page 2\n",
      "[INFO] \u001b[1;36m[4/4] Creating pages...\u001b[0m\n",
      "[INFO] (1/2) Page 1\n",
      "[ERROR] Ignore page 1 due to making page error: invalid literal for int() with base 16: 'x1'\n",
      "[INFO] (2/2) Page 2\n",
      "[ERROR] Ignore page 2 due to making page error: invalid literal for int() with base 16: 'x1'\n",
      "[INFO] Terminated in 0.14s.\n"
     ]
    },
    {
     "name": "stdout",
     "output_type": "stream",
     "text": [
      "File seems to have no text content in it. Skipping file.\n",
      "data/submissions_1916694/dubosechloesky_647280_29301378_MWrite #1.pdf\n"
     ]
    },
    {
     "name": "stderr",
     "output_type": "stream",
     "text": [
      "[INFO] Start to convert data/submissions_1916694/robinsonsarah_720637_29296053_CS 1.4b MWRITE (1).pdf\n",
      "[INFO] \u001b[1;36m[1/4] Opening document...\u001b[0m\n",
      "[INFO] \u001b[1;36m[2/4] Analyzing document...\u001b[0m\n",
      "[INFO] \u001b[1;36m[3/4] Parsing pages...\u001b[0m\n",
      "[INFO] (1/2) Page 1\n",
      "[INFO] (2/2) Page 2\n",
      "[INFO] \u001b[1;36m[4/4] Creating pages...\u001b[0m\n",
      "[INFO] (1/2) Page 1\n",
      "[ERROR] Ignore page 1 due to making page error: invalid literal for int() with base 16: 'x1'\n",
      "[INFO] (2/2) Page 2\n",
      "[ERROR] Ignore page 2 due to making page error: invalid literal for int() with base 16: 'x1'\n"
     ]
    },
    {
     "name": "stdout",
     "output_type": "stream",
     "text": [
      "File seems to have no text content in it. Skipping file.\n",
      "data/submissions_1916694/robinsonsarah_720637_29296053_CS 1.4b MWRITE (1).pdf\n"
     ]
    },
    {
     "name": "stderr",
     "output_type": "stream",
     "text": [
      "[INFO] Terminated in 0.21s.\n",
      "[INFO] Start to convert data/submissions_1916694/olejniczakedmondjoseph_636622_29299905_Mwrite #1.pdf\n",
      "[INFO] \u001b[1;36m[1/4] Opening document...\u001b[0m\n",
      "[INFO] \u001b[1;36m[2/4] Analyzing document...\u001b[0m\n",
      "[INFO] \u001b[1;36m[3/4] Parsing pages...\u001b[0m\n",
      "[INFO] (1/2) Page 1\n",
      "[INFO] (2/2) Page 2\n"
     ]
    },
    {
     "name": "stdout",
     "output_type": "stream",
     "text": [
      "File seems to have no text content in it. Skipping file.\n",
      "data/submissions_1916694/mcnamaraaverymadeline_637392_29296274_MWrite #1 MVS110.docx\n",
      "data/submissions_1916694/olejniczakedmondjoseph_636622_29299905_Mwrite #1.pdf\n"
     ]
    },
    {
     "name": "stderr",
     "output_type": "stream",
     "text": [
      "[INFO] \u001b[1;36m[4/4] Creating pages...\u001b[0m\n",
      "[INFO] (1/2) Page 1\n",
      "[ERROR] Ignore page 1 due to making page error: invalid literal for int() with base 16: 'x1'\n",
      "[INFO] (2/2) Page 2\n",
      "[ERROR] Ignore page 2 due to making page error: invalid literal for int() with base 16: 'x1'\n",
      "[INFO] Terminated in 0.19s.\n"
     ]
    },
    {
     "name": "stdout",
     "output_type": "stream",
     "text": [
      "File seems to have no text content in it. Skipping file.\n",
      "data/submissions_1916694/sippellvictoriajane_714607_29291694_MWrite - Gait Speed.docx\n"
     ]
    },
    {
     "data": {
      "text/plain": [
       "True"
      ]
     },
     "execution_count": 15,
     "metadata": {},
     "output_type": "execute_result"
    }
   ],
   "source": [
    "from simpleHelper import *\n",
    "\n",
    "originalSubmissionFolder = os.path.join('data', 'submissions_1916694')\n",
    "assignmentID = 1916694\n",
    "\n",
    "convertSubmissions(originalSubmissionFolder, assignmentID)"
   ]
  },
  {
   "cell_type": "markdown",
   "metadata": {},
   "source": [
    "# Part 2: Getting ChatGPT responses for submissions\n",
    "\n",
    "You need to provide the full file path to each of the 4 CSV files. You also need to specify your OpenAI key details, the course code, and the assignment ID.\n",
    "The `courseName` variable simply is the real name of the course."
   ]
  },
  {
   "cell_type": "code",
   "execution_count": 19,
   "metadata": {},
   "outputs": [
    {
     "name": "stdout",
     "output_type": "stream",
     "text": [
      "     submitter_id  grader_id  score  rubric_id  assignment_id  \\\n",
      "0          502622     590150   19.0     136344        1916699   \n",
      "1          556503     504257   17.0     136344        1916699   \n",
      "2          587553     496051   19.0     136344        1916699   \n",
      "3          629454     501274   18.0     136344        1916699   \n",
      "4          629455     590150   19.0     136344        1916699   \n",
      "..            ...        ...    ...        ...            ...   \n",
      "607        737258     590150   40.0     136366        1916709   \n",
      "608        737505     590150   40.0     136366        1916709   \n",
      "609        738021     501274   40.0     136366        1916709   \n",
      "610        738118     501274   39.0     136366        1916709   \n",
      "611        763505     496051   40.0     136366        1916709   \n",
      "\n",
      "                                      assignment_title  \\\n",
      "0    CS 1.8b MWrite #1: More Robust Data Collection...   \n",
      "1    CS 1.8b MWrite #1: More Robust Data Collection...   \n",
      "2    CS 1.8b MWrite #1: More Robust Data Collection...   \n",
      "3    CS 1.8b MWrite #1: More Robust Data Collection...   \n",
      "4    CS 1.8b MWrite #1: More Robust Data Collection...   \n",
      "..                                                 ...   \n",
      "607  CS 4.2a MWrite #3: Metabolic Efficiencies in O...   \n",
      "608  CS 4.2a MWrite #3: Metabolic Efficiencies in O...   \n",
      "609  CS 4.2a MWrite #3: Metabolic Efficiencies in O...   \n",
      "610  CS 4.2a MWrite #3: Metabolic Efficiencies in O...   \n",
      "611  CS 4.2a MWrite #3: Metabolic Efficiencies in O...   \n",
      "\n",
      "                                            data_grade  \\\n",
      "0    [{'id': 'blank', 'points': 3.0, 'criterion_id'...   \n",
      "1    [{'id': '_6065', 'points': 2.0, 'criterion_id'...   \n",
      "2    [{'id': 'blank', 'points': 3.0, 'criterion_id'...   \n",
      "3    [{'id': 'blank', 'points': 3.0, 'criterion_id'...   \n",
      "4    [{'id': 'blank', 'points': 3.0, 'criterion_id'...   \n",
      "..                                                 ...   \n",
      "607  [{'id': 'blank', 'points': 5.0, 'criterion_id'...   \n",
      "608  [{'id': 'blank', 'points': 5.0, 'criterion_id'...   \n",
      "609  [{'id': 'blank', 'points': 5.0, 'criterion_id'...   \n",
      "610  [{'id': 'blank', 'points': 5.0, 'criterion_id'...   \n",
      "611  [{'id': 'blank', 'points': 5.0, 'criterion_id'...   \n",
      "\n",
      "                                           data_rubric  points_possible  \\\n",
      "0    [{'description': 'Factor 1: Start/Stop Lines',...             20.0   \n",
      "1    [{'description': 'Factor 1: Start/Stop Lines',...             20.0   \n",
      "2    [{'description': 'Factor 1: Start/Stop Lines',...             20.0   \n",
      "3    [{'description': 'Factor 1: Start/Stop Lines',...             20.0   \n",
      "4    [{'description': 'Factor 1: Start/Stop Lines',...             20.0   \n",
      "..                                                 ...              ...   \n",
      "607  [{'description': 'Summary of study design and ...             40.0   \n",
      "608  [{'description': 'Summary of study design and ...             40.0   \n",
      "609  [{'description': 'Summary of study design and ...             40.0   \n",
      "610  [{'description': 'Summary of study design and ...             40.0   \n",
      "611  [{'description': 'Summary of study design and ...             40.0   \n",
      "\n",
      "                                assignment_description  cleaned_description  \\\n",
      "0    <h4><strong>Writing Fellows' Office Hours:</st...                  NaN   \n",
      "1    <h4><strong>Writing Fellows' Office Hours:</st...                  NaN   \n",
      "2    <h4><strong>Writing Fellows' Office Hours:</st...                  NaN   \n",
      "3    <h4><strong>Writing Fellows' Office Hours:</st...                  NaN   \n",
      "4    <h4><strong>Writing Fellows' Office Hours:</st...                  NaN   \n",
      "..                                                 ...                  ...   \n",
      "607  <p><span style=\"font-size: 14pt; background-co...                  NaN   \n",
      "608  <p><span style=\"font-size: 14pt; background-co...                  NaN   \n",
      "609  <p><span style=\"font-size: 14pt; background-co...                  NaN   \n",
      "610  <p><span style=\"font-size: 14pt; background-co...                  NaN   \n",
      "611  <p><span style=\"font-size: 14pt; background-co...                  NaN   \n",
      "\n",
      "     file_submission_source  \n",
      "0                   1916699  \n",
      "1                   1916699  \n",
      "2                   1916699  \n",
      "3                   1916699  \n",
      "4                   1916699  \n",
      "..                      ...  \n",
      "607                 1916709  \n",
      "608                 1916709  \n",
      "609                 1916709  \n",
      "610                 1916709  \n",
      "611                 1916709  \n",
      "\n",
      "[612 rows x 12 columns]\n",
      "gradeRubricAssignmentDF size 612\n",
      "1916694\n",
      "gradeRubricAssignmentDF size 103\n"
     ]
    },
    {
     "name": "stderr",
     "output_type": "stream",
     "text": [
      "Processing: 1916694-502622:   0%|          | 0/103 [00:00<?, ?it/s]\n"
     ]
    },
    {
     "ename": "NameError",
     "evalue": "name 'AzureOpenAI' is not defined",
     "output_type": "error",
     "traceback": [
      "\u001b[0;31m---------------------------------------------------------------------------\u001b[0m",
      "\u001b[0;31mNameError\u001b[0m                                 Traceback (most recent call last)",
      "Cell \u001b[0;32mIn[19], line 41\u001b[0m\n\u001b[1;32m     39\u001b[0m         \u001b[38;5;28;01mcontinue\u001b[39;00m\n\u001b[1;32m     40\u001b[0m     \u001b[38;5;28;01melse\u001b[39;00m:\n\u001b[0;32m---> 41\u001b[0m         dataDict, runSuccess \u001b[38;5;241m=\u001b[39m \u001b[43mprocessGRARow\u001b[49m\u001b[43m(\u001b[49m\u001b[43mrow\u001b[49m\u001b[43m,\u001b[49m\u001b[43m \u001b[49m\u001b[43mcourseName\u001b[49m\u001b[43m,\u001b[49m\u001b[43m \u001b[49m\u001b[43mcustomDescMode\u001b[49m\u001b[43m,\u001b[49m\u001b[43m \u001b[49m\u001b[43mcritDescDF\u001b[49m\u001b[43m)\u001b[49m\n\u001b[1;32m     42\u001b[0m         saveOutputasPickle(dataDict, runSuccess, saveFolder, errorFolder)\n\u001b[1;32m     44\u001b[0m \u001b[38;5;28mprint\u001b[39m(\u001b[38;5;124mf\u001b[39m\u001b[38;5;124m\"\u001b[39m\u001b[38;5;124mgradeRubricAssignmentDF size \u001b[39m\u001b[38;5;132;01m{\u001b[39;00mgradeRubricAssignmentDF\u001b[38;5;241m.\u001b[39mshape[\u001b[38;5;241m0\u001b[39m]\u001b[38;5;132;01m}\u001b[39;00m\u001b[38;5;124m\"\u001b[39m)\n",
      "File \u001b[0;32m~/gai_grader/simpleHelper.py:309\u001b[0m, in \u001b[0;36mprocessGRARow\u001b[0;34m(row, courseName, customDescMode, critDescDF)\u001b[0m\n\u001b[1;32m    306\u001b[0m fullPrompt \u001b[38;5;241m=\u001b[39m promptBuilder(promptVariableDict, useCustomDesc\u001b[38;5;241m=\u001b[39mcustomDescMode)\n\u001b[1;32m    308\u001b[0m peerBot \u001b[38;5;241m=\u001b[39m peerGPT()\n\u001b[0;32m--> 309\u001b[0m response, responseSucess \u001b[38;5;241m=\u001b[39m \u001b[43mpeerBot\u001b[49m\u001b[38;5;241;43m.\u001b[39;49m\u001b[43mget_completion\u001b[49m\u001b[43m(\u001b[49m\u001b[43mfullPrompt\u001b[49m\u001b[43m)\u001b[49m\n\u001b[1;32m    310\u001b[0m \u001b[38;5;28;01mdel\u001b[39;00m peerBot\n\u001b[1;32m    312\u001b[0m \u001b[38;5;28;01mif\u001b[39;00m responseSucess:\n",
      "File \u001b[0;32m~/gai_grader/simpleHelper.py:356\u001b[0m, in \u001b[0;36mpeerGPT.get_completion\u001b[0;34m(self, prompt, callMaxLimit)\u001b[0m\n\u001b[1;32m    354\u001b[0m     quit()\n\u001b[1;32m    355\u001b[0m \u001b[38;5;66;03m#Create Azure client\u001b[39;00m\n\u001b[0;32m--> 356\u001b[0m client \u001b[38;5;241m=\u001b[39m \u001b[43mAzureOpenAI\u001b[49m(\n\u001b[1;32m    357\u001b[0m     api_key\u001b[38;5;241m=\u001b[39mos\u001b[38;5;241m.\u001b[39menviron[\u001b[38;5;124m'\u001b[39m\u001b[38;5;124mOPENAI_API_KEY\u001b[39m\u001b[38;5;124m'\u001b[39m],  \n\u001b[1;32m    358\u001b[0m     api_version\u001b[38;5;241m=\u001b[39mos\u001b[38;5;241m.\u001b[39menviron[\u001b[38;5;124m'\u001b[39m\u001b[38;5;124mOPENAI_API_VERSION\u001b[39m\u001b[38;5;124m'\u001b[39m],\n\u001b[1;32m    359\u001b[0m     azure_endpoint \u001b[38;5;241m=\u001b[39m os\u001b[38;5;241m.\u001b[39menviron[\u001b[38;5;124m'\u001b[39m\u001b[38;5;124mOPENAI_API_BASE\u001b[39m\u001b[38;5;124m'\u001b[39m],\n\u001b[1;32m    360\u001b[0m     organization \u001b[38;5;241m=\u001b[39m os\u001b[38;5;241m.\u001b[39menviron[\u001b[38;5;124m'\u001b[39m\u001b[38;5;124mORGANIZAION\u001b[39m\u001b[38;5;124m'\u001b[39m]\n\u001b[1;32m    361\u001b[0m )\n\u001b[1;32m    363\u001b[0m messages \u001b[38;5;241m=\u001b[39m [{\u001b[38;5;124m\"\u001b[39m\u001b[38;5;124mrole\u001b[39m\u001b[38;5;124m\"\u001b[39m: \u001b[38;5;124m\"\u001b[39m\u001b[38;5;124muser\u001b[39m\u001b[38;5;124m\"\u001b[39m, \u001b[38;5;124m\"\u001b[39m\u001b[38;5;124mcontent\u001b[39m\u001b[38;5;124m\"\u001b[39m: prompt}]\n\u001b[1;32m    365\u001b[0m callComplete \u001b[38;5;241m=\u001b[39m \u001b[38;5;28;01mFalse\u001b[39;00m\n",
      "\u001b[0;31mNameError\u001b[0m: name 'AzureOpenAI' is not defined"
     ]
    }
   ],
   "source": [
    "from simpleHelper import *\n",
    "from tqdm import tqdm\n",
    "\n",
    "pathToAssgnCSV = os.path.join('data','MOVESCI_110_WN_2023_584988_MWrite_assignments_cleaned_description_col.csv')\n",
    "pathToGradingsCSV = os.path.join('data','MOVESCI_110_WN_2023_584988_MWrite_gradings.csv')\n",
    "pathToRubricsCSV = os.path.join('data','MOVESCI_110_WN_2023_584988_MWrite_rubrics.csv')\n",
    "\n",
    "pathToCriterionCSV = os.path.join('data','584988_criterion.csv')\n",
    "\n",
    "courseCode = 584988\n",
    "assignmentID = 1916694\n",
    "courseName = 'Movement Science'\n",
    "\n",
    "overWriteSave = False\n",
    "\n",
    "customDescMode = True\n",
    "critDescDF = pd.read_csv(pathToCriterionCSV).drop_duplicates()\n",
    "\n",
    "saveFolder = 'data/saves'\n",
    "errorFolder = 'data/error'\n",
    "if not os.path.exists(saveFolder):\n",
    "        os.mkdir(saveFolder)\n",
    "if not os.path.exists(errorFolder):\n",
    "        os.mkdir(errorFolder)\n",
    "    \n",
    "gradeRubricAssignmentDF = getGRAData(pathToAssgnCSV, pathToGradingsCSV, pathToRubricsCSV)\n",
    "print(gradeRubricAssignmentDF)\n",
    "print(f\"gradeRubricAssignmentDF size {gradeRubricAssignmentDF.shape[0]}\")\n",
    "print(assignmentID)\n",
    "\n",
    "gradeRubricAssignmentDF = gradeRubricAssignmentDF[gradeRubricAssignmentDF['assignment_id']==assignmentID]\n",
    "\n",
    "print(f\"gradeRubricAssignmentDF size {gradeRubricAssignmentDF.shape[0]}\")\n",
    "\n",
    "for index, row in (pbar := tqdm(gradeRubricAssignmentDF.iterrows(), total=gradeRubricAssignmentDF.shape[0])):\n",
    "    pbar.set_description(f\"Processing: {assignmentID}-{row['submitter_id']}\")\n",
    "    if checkIfSaved(row['assignment_id'], row['submitter_id'], saveFolder, errorFolder) and not overWriteSave:\n",
    "        # print(f\"Already saved: {assignmentID}-{row['submitter_id']}\")\n",
    "        continue\n",
    "    else:\n",
    "        dataDict, runSuccess = processGRARow(row, courseName, customDescMode, critDescDF)\n",
    "        saveOutputasPickle(dataDict, runSuccess, saveFolder, errorFolder)\n",
    "\n",
    "print(f\"gradeRubricAssignmentDF size {gradeRubricAssignmentDF.shape[0]}\")\n"
   ]
  },
  {
   "cell_type": "code",
   "execution_count": null,
   "metadata": {},
   "outputs": [],
   "source": [
    "!pip3 install \"pandas<2.0.0\""
   ]
  },
  {
   "cell_type": "markdown",
   "metadata": {},
   "source": [
    "# Part 3: Analyzing the results and making charts and tables"
   ]
  },
  {
   "cell_type": "code",
   "execution_count": null,
   "metadata": {},
   "outputs": [],
   "source": [
    "resultsDF = convertPicklesToDF(saveFolder)\n",
    "errorDF = convertPicklesToDF(errorFolder)\n",
    "\n",
    "excelFolder = 'data/excelJK'\n",
    "if not os.path.exists(excelFolder):\n",
    "        os.mkdir(excelFolder)\n",
    "chartFolder = 'data/chartsJK'\n",
    "if not os.path.exists(chartFolder):\n",
    "        os.mkdir(chartFolder)\n",
    "\n",
    "saveName = f'{courseName}-{assignmentID}'\n",
    "        \n",
    "mergedCriterionData = getCriterionDataDF(resultsDF, saveName, excelFolder)\n",
    "\n",
    "# getScoreSpread(resultsDF, saveName, chartFolder)"
   ]
  },
  {
   "cell_type": "code",
   "execution_count": null,
   "metadata": {},
   "outputs": [],
   "source": [
    "meanDiffDF, meanDiffPercentDF = saveGraderPeerGPTMeanScoreDiff(resultsDF, saveName, excelFolder)\n",
    "\n",
    "display(meanDiffPercentDF)"
   ]
  },
  {
   "cell_type": "code",
   "execution_count": null,
   "metadata": {},
   "outputs": [],
   "source": [
    "from simpleHelper import buildFullInfoDF\n",
    "#fullInfoDF, rubricOrderDict = buildFullInfoDF(gradeRubricAssignmentDF, resultsDF, saveName, excelFolder)\n",
    "print(\"sss\")\n",
    "critDataDF = pd.DataFrame()\n",
    "for index,row in resultsDF.iterrows():\n",
    "    criterionData = row['data_peerGPT']\n",
    "    for col in ['submitter_id', 'assignment_id', 'grader_id']:\n",
    "        criterionData[col] = row[col]\n",
    "    critDataDF = pd.concat([critDataDF, criterionData])\n",
    "allCritDF = critDataDF.drop(['mastery_points','ignore_for_scoring','title','peerGPT_criterion_id','description_grade'],\n",
    "                        axis=1, errors='ignore')\n",
    "\n",
    "print(f\"allCritDF size {allCritDF.shape[0]}\")\n",
    "\n",
    "meanInfoList = []\n",
    "for group in allCritDF.groupby(['assignment_id','criterion_id','grader_id']):\n",
    "    meanInfoList.append({'assignment_id':group[0][0], 'criterion_id':group[0][1], 'grader_id':group[0][2], \\\n",
    "                        'Grader Mean':group[1]['points_grade'].mean(), \\\n",
    "                        'Grader Std. Dev.':group[1]['points_grade'].std(), \\\n",
    "                        'peerGPT Mean':group[1]['peerGPT_criterion_score'].mean(), \\\n",
    "                        'peerGPT Std. Dev.':group[1]['peerGPT_criterion_score'].std(), \\\n",
    "                        # 'Correlation Score':group[1]['peerGPT_criterion_score'].corr(group[1]['points_grade']), \\\n",
    "                        })\n",
    "meanInfoDF = pd.DataFrame(meanInfoList)\n",
    "meanInfoDF['Mean Difference'] = meanInfoDF['peerGPT Mean'] - meanInfoDF['Grader Mean']\n",
    "print(f\"gradeRubricAssignmentDF size {gradeRubricAssignmentDF.shape[0]}\")\n",
    "assignmentDF = gradeRubricAssignmentDF[['assignment_id', 'assignment_title']].drop_duplicates()\n",
    "print(f\"assignmentDF size {assignmentDF.shape[0]}\")\n",
    "\n",
    "baseInfoDF = allCritDF[['assignment_id', 'criterion_id', 'description_rubric', 'points_rubric']].drop_duplicates()\n",
    "baseInfoDF = baseInfoDF.merge(assignmentDF, on='assignment_id')\n",
    "print(f\"baseInfoDF size {baseInfoDF.shape[0]}\")\n",
    "\n",
    "globalMeanList = [{'assignment_id':group[0][0], 'criterion_id':group[0][1], \\\n",
    "                'All Graders Mean':group[1]['points_grade'].mean(), \\\n",
    "                'All Graders Std. Dev.':group[1]['points_grade'].std(), \\\n",
    "                'Global peerGPT Mean':group[1]['peerGPT_criterion_score'].mean(), \\\n",
    "                'Global peerGPT Std. Dev.':group[1]['peerGPT_criterion_score'].std()} \\\n",
    "                    for group in allCritDF.groupby(['assignment_id', 'criterion_id'])]\n",
    "globalMeanDF = pd.DataFrame(globalMeanList)\n",
    "\n",
    "baseInfoDF = baseInfoDF.merge(globalMeanDF, on=['assignment_id', 'criterion_id'])\n",
    "\n",
    "fullInfoDF = meanInfoDF.merge(baseInfoDF, on=['assignment_id', 'criterion_id'])\n",
    "fullInfoDF['Mean Difference %'] = 100*fullInfoDF['Mean Difference'].div(fullInfoDF['points_rubric'])\n",
    "print(fullInfoDF)\n",
    "fullInfoDF['Grader Mean Diff. %'] = 100*(fullInfoDF['All Graders Mean'] - fullInfoDF['Grader Mean']).div(fullInfoDF['points_rubric'])\n",
    "print(fullInfoDF)\n",
    "print(f\"sSaving file at: {os.path.join(excelFolder, saveName+' - Grader Difference Table.xlsx')}\")\n",
    "fullInfoDF.to_excel(os.path.join(excelFolder, saveName+' - Grader Difference Table.xlsx'))\n",
    "\n",
    "rubricInfo = gradeRubricAssignmentDF[['assignment_id', 'data_rubric']].drop_duplicates('assignment_id').reset_index(drop=True)\n",
    "rubricOrderDict = {}\n",
    "for index, row in rubricInfo.iterrows():\n",
    "    rubricOrderDict[row['assignment_id']] = pd.DataFrame(row['data_rubric'])['description'].tolist()"
   ]
  },
  {
   "cell_type": "code",
   "execution_count": null,
   "metadata": {},
   "outputs": [],
   "source": [
    "getZScoreAndCI(fullInfoDF, saveName, excelFolder, confidence=0.93)"
   ]
  },
  {
   "cell_type": "code",
   "execution_count": null,
   "metadata": {},
   "outputs": [],
   "source": [
    "getMeanDiffPercentCharts(fullInfoDF, rubricOrderDict, courseName, chartFolder)"
   ]
  }
 ],
 "metadata": {
  "kernelspec": {
   "display_name": ".venv",
   "language": "python",
   "name": "python3"
  },
  "language_info": {
   "codemirror_mode": {
    "name": "ipython",
    "version": 3
   },
   "file_extension": ".py",
   "mimetype": "text/x-python",
   "name": "python",
   "nbconvert_exporter": "python",
   "pygments_lexer": "ipython3",
   "version": "3.10.14"
  },
  "orig_nbformat": 4
 },
 "nbformat": 4,
 "nbformat_minor": 2
}
